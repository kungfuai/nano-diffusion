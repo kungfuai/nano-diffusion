{
 "cells": [
  {
   "cell_type": "code",
   "execution_count": 1,
   "metadata": {},
   "outputs": [],
   "source": [
    "# To use the files in the parent directory run this cell\n",
    "import os\n",
    "import sys\n",
    "module_path = os.path.abspath(os.path.join('..'))\n",
    "if module_path not in sys.path:\n",
    "    sys.path.append(module_path)"
   ]
  },
  {
   "cell_type": "code",
   "execution_count": 2,
   "metadata": {},
   "outputs": [],
   "source": [
    "from src.models.vqvae import VQVAE\n",
    "# from src.models.full_vqvae import VQVAE\n",
    "from src.models.var import VAR\n",
    "from src.datasets.hugging_face_dataset import HuggingFaceDataset"
   ]
  },
  {
   "cell_type": "code",
   "execution_count": 6,
   "metadata": {},
   "outputs": [],
   "source": [
    "import torch\n",
    "import torch.nn.functional as F\n",
    "from torchvision import datasets, transforms\n",
    "from torchvision.utils import make_grid\n",
    "from torch.utils.data import DataLoader\n",
    "import matplotlib.pyplot as plt\n",
    "import gc\n",
    "from tqdm import tqdm\n",
    "\n",
    "\n",
    "model_params = {\n",
    "    \"mnist\": {\n",
    "        \"VQVAE_DIM\": 64,\n",
    "        \"VOCAB_SIZE\": 32,\n",
    "        \"PATCH_SIZES\": [1, 2, 3, 4, 8],\n",
    "        \"VAR_DIM\": 64,\n",
    "        \"N_HEADS\": 4,\n",
    "        \"N_LAYERS\": 6,\n",
    "        \"channels\": 1,\n",
    "    },\n",
    "    \"cifar\": {\n",
    "        \"VQVAE_DIM\": 512,\n",
    "        \"VOCAB_SIZE\": 2048,\n",
    "        \"PATCH_SIZES\": [1, 2, 3, 4, 6, 8],\n",
    "        \"VAR_DIM\": 512,\n",
    "        \"N_HEADS\": 16,\n",
    "        \"N_LAYERS\": 12,\n",
    "        \"channels\": 3,\n",
    "    },\n",
    "    \"small\": {\n",
    "        \"VQVAE_DIM\": 128,\n",
    "        \"VOCAB_SIZE\": 4096,\n",
    "        \"PATCH_SIZES\": [1, 2, 3, 4, 6, 8, 16],\n",
    "        \"VAR_DIM\": 512,\n",
    "        \"N_HEADS\": 16,\n",
    "        \"N_LAYERS\": 16,\n",
    "        \"channels\": 3,\n",
    "    },\n",
    "    # \"medium\": {\n",
    "    #     \"VQVAE_DIM\": 512,\n",
    "    #     \"VOCAB_SIZE\": 2048,\n",
    "    #     \"PATCH_SIZES\": [1, 2, 3, 4, 6, 8],\n",
    "    #     \"VAR_DIM\": 512,\n",
    "    #     \"N_HEADS\": 32,\n",
    "    #     \"N_LAYERS\": 20,\n",
    "    #     \"channels\": 3,\n",
    "    # },\n",
    "    # \"large\": {\n",
    "    #     \"VQVAE_DIM\": 512,\n",
    "    #     \"VOCAB_SIZE\": 4096,\n",
    "    #     \"PATCH_SIZES\": [1, 2, 3, 4, 6, 8],\n",
    "    #     \"VAR_DIM\": 512,\n",
    "    #     \"N_HEADS\": 64,\n",
    "    #     \"N_LAYERS\": 24,\n",
    "    #     \"channels\": 3,\n",
    "    # },\n",
    "}\n",
    "\n",
    "training_params = {\n",
    "    \"mnist\": {\n",
    "        \"VQVAE\": {\n",
    "            \"batch_size\": 2048,\n",
    "            \"lr\": 3e-4,\n",
    "            \"epochs\": 40,\n",
    "        },\n",
    "        \"VAR\": {\n",
    "            \"batch_size\": 1024,\n",
    "            \"lr\": 1e-3,\n",
    "            \"epochs\": 100,\n",
    "        },\n",
    "    },\n",
    "    \"cifar\": {\n",
    "        \"VQVAE\": {\n",
    "            \"batch_size\": 128,\n",
    "            \"lr\": 1e-4,\n",
    "            \"epochs\": 100,\n",
    "        },\n",
    "        \"VAR\": {\n",
    "            \"batch_size\": 64,\n",
    "            \"lr\": 1e-4,\n",
    "            \"epochs\": 100,\n",
    "        },\n",
    "    },\n",
    "}\n",
    "\n",
    "\n",
    "def get_data(batch_size=1024, dataset=\"mnist\"):\n",
    "    if dataset == \"cifar\":\n",
    "        transform = transforms.Compose(\n",
    "            [\n",
    "                transforms.ToTensor(),\n",
    "                transforms.RandomCrop(32),\n",
    "                transforms.RandomHorizontalFlip(),\n",
    "                transforms.Normalize((0.5,), (0.5,)),\n",
    "            ]\n",
    "        )\n",
    "        train_ds = datasets.CIFAR10(\n",
    "            root=\"./data\", train=True, download=True, transform=transform\n",
    "        )\n",
    "        test_ds = datasets.CIFAR10(\n",
    "            root=\"./data\", train=False, download=True, transform=transform\n",
    "        )\n",
    "    elif dataset == \"mnist\":\n",
    "        transform = transforms.Compose(\n",
    "            [\n",
    "                transforms.ToTensor(),\n",
    "                transforms.Pad(2),\n",
    "                transforms.Normalize((0.5,), (0.5,)),\n",
    "            ]\n",
    "        )\n",
    "        train_ds = datasets.MNIST(\n",
    "            root=\"./data\", train=True, download=True, transform=transform\n",
    "        )\n",
    "        test_ds = datasets.MNIST(\n",
    "            root=\"./data\", train=False, download=True, transform=transform\n",
    "        )\n",
    "    else:\n",
    "        transform = transforms.Compose(\n",
    "            [\n",
    "                transforms.ToTensor(),\n",
    "                transforms.Resize((32, 32)),\n",
    "                transforms.Normalize((0.5,), (0.5,)),\n",
    "            ]\n",
    "        )\n",
    "        # Use HuggingFace datasets\n",
    "        train_ds = HuggingFaceDataset(dataset_path=dataset, split=\"train\", transform=transform)\n",
    "        test_ds = HuggingFaceDataset(dataset_path=dataset, split=\"val\", transform=transform)\n",
    "\n",
    "\n",
    "    train_loader = DataLoader(\n",
    "        train_ds, batch_size=batch_size, shuffle=False, drop_last=False\n",
    "    )\n",
    "    test_loader = DataLoader(\n",
    "        test_ds, batch_size=batch_size, shuffle=False, drop_last=True\n",
    "    )\n",
    "\n",
    "    print(len(train_loader), len(test_loader))\n",
    "\n",
    "    return train_loader, test_loader\n",
    "\n",
    "\n",
    "def plot_images(pred, original=None):\n",
    "    n = pred.size(0)\n",
    "    pred = pred * 0.5 + 0.5\n",
    "    pred = pred.clamp(0, 1)\n",
    "    img = pred.cpu().detach()\n",
    "\n",
    "    if original is not None:\n",
    "        original = original * 0.5 + 0.5\n",
    "        original = original.clamp(0, 1)\n",
    "        original = original.cpu().detach()\n",
    "        img = torch.cat([original, img], dim=0)\n",
    "\n",
    "    img_grid = make_grid(img, nrow=n)\n",
    "    img_grid = img_grid.permute(1, 2, 0).numpy()\n",
    "    img_grid = (img_grid * 255).astype(\"uint8\")\n",
    "    plt.imshow(img_grid)\n",
    "    plt.axis(\"off\")\n"
   ]
  },
  {
   "cell_type": "code",
   "execution_count": 7,
   "metadata": {},
   "outputs": [],
   "source": [
    "dataset = \"zzsi/afhq64_16k\"\n",
    "model_params = model_params[\"small\"]\n",
    "training_params = training_params[\"cifar\"]"
   ]
  },
  {
   "cell_type": "markdown",
   "metadata": {},
   "source": [
    "# Training VQVAE"
   ]
  },
  {
   "cell_type": "code",
   "execution_count": 8,
   "metadata": {},
   "outputs": [
    {
     "name": "stdout",
     "output_type": "stream",
     "text": [
      "==========Training VQVAE==========\n",
      "115 11\n"
     ]
    },
    {
     "name": "stderr",
     "output_type": "stream",
     "text": [
      "  0%|          | 0/100 [00:00<?, ?it/s]"
     ]
    },
    {
     "name": "stdout",
     "output_type": "stream",
     "text": [
      "Epoch 0 Encoder Output: mean=0.0861, std=0.7615, min=-4.1897, max=4.1117\n"
     ]
    },
    {
     "name": "stderr",
     "output_type": "stream",
     "text": [
      "\n"
     ]
    },
    {
     "ename": "OutOfMemoryError",
     "evalue": "CUDA out of memory. Tried to allocate 512.00 MiB. GPU 0 has a total capacity of 23.67 GiB of which 12.81 MiB is free. Including non-PyTorch memory, this process has 23.47 GiB memory in use. Of the allocated memory 22.45 GiB is allocated by PyTorch, and 725.45 MiB is reserved by PyTorch but unallocated. If reserved but unallocated memory is large try setting PYTORCH_CUDA_ALLOC_CONF=expandable_segments:True to avoid fragmentation.  See documentation for Memory Management  (https://pytorch.org/docs/stable/notes/cuda.html#environment-variables)",
     "output_type": "error",
     "traceback": [
      "\u001b[0;31m---------------------------------------------------------------------------\u001b[0m",
      "\u001b[0;31mOutOfMemoryError\u001b[0m                          Traceback (most recent call last)",
      "Cell \u001b[0;32mIn[8], line 48\u001b[0m\n\u001b[1;32m     45\u001b[0m         latent \u001b[38;5;241m=\u001b[39m vq_model\u001b[38;5;241m.\u001b[39mencoder(x)\n\u001b[1;32m     46\u001b[0m         print_latent_stats(latent, name\u001b[38;5;241m=\u001b[39m\u001b[38;5;124mf\u001b[39m\u001b[38;5;124m\"\u001b[39m\u001b[38;5;124mEpoch \u001b[39m\u001b[38;5;132;01m{\u001b[39;00mepoch\u001b[38;5;132;01m}\u001b[39;00m\u001b[38;5;124m Encoder Output\u001b[39m\u001b[38;5;124m\"\u001b[39m)\n\u001b[0;32m---> 48\u001b[0m xhat, r_maps, idxs, scales, q_loss \u001b[38;5;241m=\u001b[39m \u001b[43mvq_model\u001b[49m\u001b[43m(\u001b[49m\u001b[43mx\u001b[49m\u001b[43m)\u001b[49m\n\u001b[1;32m     49\u001b[0m recon_loss \u001b[38;5;241m=\u001b[39m F\u001b[38;5;241m.\u001b[39mmse_loss(xhat, x)\n\u001b[1;32m     50\u001b[0m loss \u001b[38;5;241m=\u001b[39m recon_loss \u001b[38;5;241m+\u001b[39m q_loss\n",
      "File \u001b[0;32m~/.local/lib/python3.10/site-packages/torch/nn/modules/module.py:1553\u001b[0m, in \u001b[0;36mModule._wrapped_call_impl\u001b[0;34m(self, *args, **kwargs)\u001b[0m\n\u001b[1;32m   1551\u001b[0m     \u001b[38;5;28;01mreturn\u001b[39;00m \u001b[38;5;28mself\u001b[39m\u001b[38;5;241m.\u001b[39m_compiled_call_impl(\u001b[38;5;241m*\u001b[39margs, \u001b[38;5;241m*\u001b[39m\u001b[38;5;241m*\u001b[39mkwargs)  \u001b[38;5;66;03m# type: ignore[misc]\u001b[39;00m\n\u001b[1;32m   1552\u001b[0m \u001b[38;5;28;01melse\u001b[39;00m:\n\u001b[0;32m-> 1553\u001b[0m     \u001b[38;5;28;01mreturn\u001b[39;00m \u001b[38;5;28;43mself\u001b[39;49m\u001b[38;5;241;43m.\u001b[39;49m\u001b[43m_call_impl\u001b[49m\u001b[43m(\u001b[49m\u001b[38;5;241;43m*\u001b[39;49m\u001b[43margs\u001b[49m\u001b[43m,\u001b[49m\u001b[43m \u001b[49m\u001b[38;5;241;43m*\u001b[39;49m\u001b[38;5;241;43m*\u001b[39;49m\u001b[43mkwargs\u001b[49m\u001b[43m)\u001b[49m\n",
      "File \u001b[0;32m~/.local/lib/python3.10/site-packages/torch/nn/modules/module.py:1562\u001b[0m, in \u001b[0;36mModule._call_impl\u001b[0;34m(self, *args, **kwargs)\u001b[0m\n\u001b[1;32m   1557\u001b[0m \u001b[38;5;66;03m# If we don't have any hooks, we want to skip the rest of the logic in\u001b[39;00m\n\u001b[1;32m   1558\u001b[0m \u001b[38;5;66;03m# this function, and just call forward.\u001b[39;00m\n\u001b[1;32m   1559\u001b[0m \u001b[38;5;28;01mif\u001b[39;00m \u001b[38;5;129;01mnot\u001b[39;00m (\u001b[38;5;28mself\u001b[39m\u001b[38;5;241m.\u001b[39m_backward_hooks \u001b[38;5;129;01mor\u001b[39;00m \u001b[38;5;28mself\u001b[39m\u001b[38;5;241m.\u001b[39m_backward_pre_hooks \u001b[38;5;129;01mor\u001b[39;00m \u001b[38;5;28mself\u001b[39m\u001b[38;5;241m.\u001b[39m_forward_hooks \u001b[38;5;129;01mor\u001b[39;00m \u001b[38;5;28mself\u001b[39m\u001b[38;5;241m.\u001b[39m_forward_pre_hooks\n\u001b[1;32m   1560\u001b[0m         \u001b[38;5;129;01mor\u001b[39;00m _global_backward_pre_hooks \u001b[38;5;129;01mor\u001b[39;00m _global_backward_hooks\n\u001b[1;32m   1561\u001b[0m         \u001b[38;5;129;01mor\u001b[39;00m _global_forward_hooks \u001b[38;5;129;01mor\u001b[39;00m _global_forward_pre_hooks):\n\u001b[0;32m-> 1562\u001b[0m     \u001b[38;5;28;01mreturn\u001b[39;00m \u001b[43mforward_call\u001b[49m\u001b[43m(\u001b[49m\u001b[38;5;241;43m*\u001b[39;49m\u001b[43margs\u001b[49m\u001b[43m,\u001b[49m\u001b[43m \u001b[49m\u001b[38;5;241;43m*\u001b[39;49m\u001b[38;5;241;43m*\u001b[39;49m\u001b[43mkwargs\u001b[49m\u001b[43m)\u001b[49m\n\u001b[1;32m   1564\u001b[0m \u001b[38;5;28;01mtry\u001b[39;00m:\n\u001b[1;32m   1565\u001b[0m     result \u001b[38;5;241m=\u001b[39m \u001b[38;5;28;01mNone\u001b[39;00m\n",
      "File \u001b[0;32m~/code/personal/nano-diffusion/src/models/vqvae.py:284\u001b[0m, in \u001b[0;36mVQVAE.forward\u001b[0;34m(self, x)\u001b[0m\n\u001b[1;32m    282\u001b[0m \u001b[38;5;28;01mdef\u001b[39;00m \u001b[38;5;21mforward\u001b[39m(\u001b[38;5;28mself\u001b[39m, x):\n\u001b[1;32m    283\u001b[0m     f \u001b[38;5;241m=\u001b[39m \u001b[38;5;28mself\u001b[39m\u001b[38;5;241m.\u001b[39mencoder(x)\n\u001b[0;32m--> 284\u001b[0m     fhat, r_maps, idxs, scales, loss \u001b[38;5;241m=\u001b[39m \u001b[38;5;28;43mself\u001b[39;49m\u001b[38;5;241;43m.\u001b[39;49m\u001b[43mquantizer\u001b[49m\u001b[43m(\u001b[49m\u001b[43mf\u001b[49m\u001b[43m)\u001b[49m\n\u001b[1;32m    285\u001b[0m     x_hat \u001b[38;5;241m=\u001b[39m \u001b[38;5;28mself\u001b[39m\u001b[38;5;241m.\u001b[39mdecoder(fhat)\n\u001b[1;32m    286\u001b[0m     \u001b[38;5;28;01mreturn\u001b[39;00m x_hat, r_maps, idxs, scales, loss\n",
      "File \u001b[0;32m~/.local/lib/python3.10/site-packages/torch/nn/modules/module.py:1553\u001b[0m, in \u001b[0;36mModule._wrapped_call_impl\u001b[0;34m(self, *args, **kwargs)\u001b[0m\n\u001b[1;32m   1551\u001b[0m     \u001b[38;5;28;01mreturn\u001b[39;00m \u001b[38;5;28mself\u001b[39m\u001b[38;5;241m.\u001b[39m_compiled_call_impl(\u001b[38;5;241m*\u001b[39margs, \u001b[38;5;241m*\u001b[39m\u001b[38;5;241m*\u001b[39mkwargs)  \u001b[38;5;66;03m# type: ignore[misc]\u001b[39;00m\n\u001b[1;32m   1552\u001b[0m \u001b[38;5;28;01melse\u001b[39;00m:\n\u001b[0;32m-> 1553\u001b[0m     \u001b[38;5;28;01mreturn\u001b[39;00m \u001b[38;5;28;43mself\u001b[39;49m\u001b[38;5;241;43m.\u001b[39;49m\u001b[43m_call_impl\u001b[49m\u001b[43m(\u001b[49m\u001b[38;5;241;43m*\u001b[39;49m\u001b[43margs\u001b[49m\u001b[43m,\u001b[49m\u001b[43m \u001b[49m\u001b[38;5;241;43m*\u001b[39;49m\u001b[38;5;241;43m*\u001b[39;49m\u001b[43mkwargs\u001b[49m\u001b[43m)\u001b[49m\n",
      "File \u001b[0;32m~/.local/lib/python3.10/site-packages/torch/nn/modules/module.py:1562\u001b[0m, in \u001b[0;36mModule._call_impl\u001b[0;34m(self, *args, **kwargs)\u001b[0m\n\u001b[1;32m   1557\u001b[0m \u001b[38;5;66;03m# If we don't have any hooks, we want to skip the rest of the logic in\u001b[39;00m\n\u001b[1;32m   1558\u001b[0m \u001b[38;5;66;03m# this function, and just call forward.\u001b[39;00m\n\u001b[1;32m   1559\u001b[0m \u001b[38;5;28;01mif\u001b[39;00m \u001b[38;5;129;01mnot\u001b[39;00m (\u001b[38;5;28mself\u001b[39m\u001b[38;5;241m.\u001b[39m_backward_hooks \u001b[38;5;129;01mor\u001b[39;00m \u001b[38;5;28mself\u001b[39m\u001b[38;5;241m.\u001b[39m_backward_pre_hooks \u001b[38;5;129;01mor\u001b[39;00m \u001b[38;5;28mself\u001b[39m\u001b[38;5;241m.\u001b[39m_forward_hooks \u001b[38;5;129;01mor\u001b[39;00m \u001b[38;5;28mself\u001b[39m\u001b[38;5;241m.\u001b[39m_forward_pre_hooks\n\u001b[1;32m   1560\u001b[0m         \u001b[38;5;129;01mor\u001b[39;00m _global_backward_pre_hooks \u001b[38;5;129;01mor\u001b[39;00m _global_backward_hooks\n\u001b[1;32m   1561\u001b[0m         \u001b[38;5;129;01mor\u001b[39;00m _global_forward_hooks \u001b[38;5;129;01mor\u001b[39;00m _global_forward_pre_hooks):\n\u001b[0;32m-> 1562\u001b[0m     \u001b[38;5;28;01mreturn\u001b[39;00m \u001b[43mforward_call\u001b[49m\u001b[43m(\u001b[49m\u001b[38;5;241;43m*\u001b[39;49m\u001b[43margs\u001b[49m\u001b[43m,\u001b[49m\u001b[43m \u001b[49m\u001b[38;5;241;43m*\u001b[39;49m\u001b[38;5;241;43m*\u001b[39;49m\u001b[43mkwargs\u001b[49m\u001b[43m)\u001b[49m\n\u001b[1;32m   1564\u001b[0m \u001b[38;5;28;01mtry\u001b[39;00m:\n\u001b[1;32m   1565\u001b[0m     result \u001b[38;5;241m=\u001b[39m \u001b[38;5;28;01mNone\u001b[39;00m\n",
      "File \u001b[0;32m~/code/personal/nano-diffusion/src/models/vqvae.py:194\u001b[0m, in \u001b[0;36mVectorQuantizer.forward\u001b[0;34m(self, f_BCHW)\u001b[0m\n\u001b[1;32m    193\u001b[0m \u001b[38;5;28;01mdef\u001b[39;00m \u001b[38;5;21mforward\u001b[39m(\u001b[38;5;28mself\u001b[39m, f_BCHW: torch\u001b[38;5;241m.\u001b[39mTensor):\n\u001b[0;32m--> 194\u001b[0m     r_R_BChw, idx_R_BL, zqs_post_conv_R_BCHW \u001b[38;5;241m=\u001b[39m \u001b[38;5;28;43mself\u001b[39;49m\u001b[38;5;241;43m.\u001b[39;49m\u001b[43mencode\u001b[49m\u001b[43m(\u001b[49m\u001b[43mf_BCHW\u001b[49m\u001b[43m)\u001b[49m\n\u001b[1;32m    195\u001b[0m     f_hat_BCHW, scales_BLC, loss \u001b[38;5;241m=\u001b[39m \u001b[38;5;28mself\u001b[39m\u001b[38;5;241m.\u001b[39mdecode(f_BCHW, zqs_post_conv_R_BCHW)\n\u001b[1;32m    196\u001b[0m     \u001b[38;5;28;01mreturn\u001b[39;00m f_hat_BCHW, r_R_BChw, idx_R_BL, scales_BLC, loss\n",
      "File \u001b[0;32m~/code/personal/nano-diffusion/src/models/vqvae.py:207\u001b[0m, in \u001b[0;36mVectorQuantizer.encode\u001b[0;34m(self, f_BCHW)\u001b[0m\n\u001b[1;32m    204\u001b[0m r_BChw \u001b[38;5;241m=\u001b[39m F\u001b[38;5;241m.\u001b[39minterpolate(f_BCHW, (resolution_k, resolution_k), mode\u001b[38;5;241m=\u001b[39m\u001b[38;5;124m\"\u001b[39m\u001b[38;5;124marea\u001b[39m\u001b[38;5;124m\"\u001b[39m)\n\u001b[1;32m    205\u001b[0m r_flattened_NC \u001b[38;5;241m=\u001b[39m r_BChw\u001b[38;5;241m.\u001b[39mpermute(\u001b[38;5;241m0\u001b[39m, \u001b[38;5;241m2\u001b[39m, \u001b[38;5;241m3\u001b[39m, \u001b[38;5;241m1\u001b[39m)\u001b[38;5;241m.\u001b[39mreshape(\u001b[38;5;241m-\u001b[39m\u001b[38;5;241m1\u001b[39m, \u001b[38;5;28mself\u001b[39m\u001b[38;5;241m.\u001b[39mdim)\n\u001b[1;32m    206\u001b[0m dist \u001b[38;5;241m=\u001b[39m (\n\u001b[0;32m--> 207\u001b[0m     \u001b[43mr_flattened_NC\u001b[49m\u001b[38;5;241;43m.\u001b[39;49m\u001b[43mpow\u001b[49m\u001b[43m(\u001b[49m\u001b[38;5;241;43m2\u001b[39;49m\u001b[43m)\u001b[49m\u001b[38;5;241;43m.\u001b[39;49m\u001b[43msum\u001b[49m\u001b[43m(\u001b[49m\u001b[38;5;241;43m1\u001b[39;49m\u001b[43m,\u001b[49m\u001b[43m \u001b[49m\u001b[43mkeepdim\u001b[49m\u001b[38;5;241;43m=\u001b[39;49m\u001b[38;5;28;43;01mTrue\u001b[39;49;00m\u001b[43m)\u001b[49m\n\u001b[1;32m    208\u001b[0m \u001b[43m    \u001b[49m\u001b[38;5;241;43m+\u001b[39;49m\u001b[43m \u001b[49m\u001b[38;5;28;43mself\u001b[39;49m\u001b[38;5;241;43m.\u001b[39;49m\u001b[43mcodebook\u001b[49m\u001b[38;5;241;43m.\u001b[39;49m\u001b[43mweight\u001b[49m\u001b[38;5;241;43m.\u001b[39;49m\u001b[43mdata\u001b[49m\u001b[38;5;241;43m.\u001b[39;49m\u001b[43mpow\u001b[49m\u001b[43m(\u001b[49m\u001b[38;5;241;43m2\u001b[39;49m\u001b[43m)\u001b[49m\u001b[38;5;241;43m.\u001b[39;49m\u001b[43msum\u001b[49m\u001b[43m(\u001b[49m\u001b[38;5;241;43m1\u001b[39;49m\u001b[43m)\u001b[49m\n\u001b[1;32m    209\u001b[0m     \u001b[38;5;241m-\u001b[39m \u001b[38;5;241m2\u001b[39m \u001b[38;5;241m*\u001b[39m r_flattened_NC \u001b[38;5;241m@\u001b[39m \u001b[38;5;28mself\u001b[39m\u001b[38;5;241m.\u001b[39mcodebook\u001b[38;5;241m.\u001b[39mweight\u001b[38;5;241m.\u001b[39mdata\u001b[38;5;241m.\u001b[39mT\n\u001b[1;32m    210\u001b[0m )\n\u001b[1;32m    212\u001b[0m idx_Bhw \u001b[38;5;241m=\u001b[39m torch\u001b[38;5;241m.\u001b[39margmin(dist, dim\u001b[38;5;241m=\u001b[39m\u001b[38;5;241m1\u001b[39m)\u001b[38;5;241m.\u001b[39mview(B, resolution_k, resolution_k)\n\u001b[1;32m    213\u001b[0m idx_R_BL\u001b[38;5;241m.\u001b[39mappend(idx_Bhw\u001b[38;5;241m.\u001b[39mreshape(B, \u001b[38;5;241m-\u001b[39m\u001b[38;5;241m1\u001b[39m))\n",
      "\u001b[0;31mOutOfMemoryError\u001b[0m: CUDA out of memory. Tried to allocate 512.00 MiB. GPU 0 has a total capacity of 23.67 GiB of which 12.81 MiB is free. Including non-PyTorch memory, this process has 23.47 GiB memory in use. Of the allocated memory 22.45 GiB is allocated by PyTorch, and 725.45 MiB is reserved by PyTorch but unallocated. If reserved but unallocated memory is large try setting PYTORCH_CUDA_ALLOC_CONF=expandable_segments:True to avoid fragmentation.  See documentation for Memory Management  (https://pytorch.org/docs/stable/notes/cuda.html#environment-variables)"
     ]
    }
   ],
   "source": [
    "from datetime import datetime\n",
    "\n",
    "print(\"=\" * 10 + \"Training VQVAE\" + \"=\" * 10)\n",
    "\n",
    "def print_latent_stats(latents, name=\"Latents\"):\n",
    "    mean_val = latents.mean().item()\n",
    "    std_val = latents.std().item()\n",
    "    min_val = latents.min().item()\n",
    "    max_val = latents.max().item()\n",
    "    print(f\"{name}: mean={mean_val:.4f}, std={std_val:.4f}, min={min_val:.4f}, max={max_val:.4f}\")\n",
    "\n",
    "# Create output directory if it doesn't exist\n",
    "start_time = datetime.now().strftime(\"%Y-%m-%d_%H-%M-%S\")\n",
    "log_dir = f\"../logs/var/vqvae/{start_time}\"\n",
    "os.makedirs(log_dir, exist_ok=True)\n",
    "\n",
    "\n",
    "vq_model = VQVAE(\n",
    "    dim=model_params[\"VQVAE_DIM\"],\n",
    "    vocab_size=model_params[\"VOCAB_SIZE\"],\n",
    "    patch_sizes=model_params[\"PATCH_SIZES\"],\n",
    "    num_channels=model_params[\"channels\"],\n",
    ")\n",
    "optimizer = torch.optim.AdamW(\n",
    "    vq_model.parameters(), lr=training_params[\"VQVAE\"][\"lr\"]\n",
    ")\n",
    "\n",
    "train_loader, test_loader = get_data(\n",
    "    batch_size=training_params[\"VQVAE\"][\"batch_size\"], dataset=dataset\n",
    ")\n",
    "vq_model = vq_model.to(\"cuda\")\n",
    "\n",
    "# All epochs\n",
    "for epoch in tqdm(range(training_params[\"VQVAE\"][\"epochs\"])):\n",
    "    epoch_loss = 0\n",
    "    epoch_recon_loss = 0\n",
    "    # Single epochs\n",
    "    for i, (x, c) in enumerate(train_loader):\n",
    "        x, c = x.cuda(), c.cuda()\n",
    "        optimizer.zero_grad()\n",
    "\n",
    "        # Optionally check and print the latent stats from the encoder on the first batch of each epoch.\n",
    "        if i == 0:\n",
    "            with torch.no_grad():\n",
    "                latent = vq_model.encoder(x)\n",
    "                print_latent_stats(latent, name=f\"Epoch {epoch} Encoder Output\")\n",
    "\n",
    "        xhat, r_maps, idxs, scales, q_loss = vq_model(x)\n",
    "        recon_loss = F.mse_loss(xhat, x)\n",
    "        loss = recon_loss + q_loss\n",
    "        loss.backward()\n",
    "        optimizer.step()\n",
    "        epoch_loss += loss.item()\n",
    "        epoch_recon_loss += recon_loss.item()\n",
    "\n",
    "    epoch_loss /= len(train_loader)\n",
    "    epoch_recon_loss /= len(train_loader)\n",
    "    print(f\"Epoch: {epoch}, Loss: {epoch_loss}, Recon Loss: {epoch_recon_loss}\")\n",
    "\n",
    "    if epoch % 5 == 0:\n",
    "        with torch.no_grad():\n",
    "            total_loss = 0\n",
    "            total_recon_loss = 0\n",
    "            for i, (x, c) in enumerate(test_loader):\n",
    "                x, c = x.cuda(), c.cuda()\n",
    "                xhat, r_maps, idxs, scales, q_loss = vq_model(x)\n",
    "                recon_loss = F.mse_loss(xhat, x)\n",
    "                loss = recon_loss + q_loss\n",
    "                total_loss += loss.item()\n",
    "                total_recon_loss += recon_loss.item()\n",
    "\n",
    "            total_loss /= len(test_loader)\n",
    "            total_recon_loss /= len(test_loader)\n",
    "\n",
    "            print(\n",
    "                f\"Epoch: {epoch}, Test Loss: {total_loss}, Test Recon Loss: {total_recon_loss}\"\n",
    "            )\n",
    "\n",
    "            x = x[:10, :].cuda()\n",
    "            x_hat = vq_model(x)[0]\n",
    "\n",
    "            plot_images(pred=x_hat, original=x)\n",
    "            plt.savefig(f\"{log_dir}/vqvae_{epoch}.png\")\n",
    "            plt.close()\n",
    "\n",
    "torch.save(vq_model.state_dict(), f\"{log_dir}/vqvae_animal_faces.pth\")\n",
    "del vq_model, optimizer, x, x_hat, train_loader, test_loader\n",
    "gc.collect()\n",
    "torch.cuda.empty_cache()\n"
   ]
  },
  {
   "cell_type": "markdown",
   "metadata": {},
   "source": [
    "# Training VAR"
   ]
  },
  {
   "cell_type": "code",
   "execution_count": 10,
   "metadata": {},
   "outputs": [],
   "source": [
    "with torch.no_grad():\n",
    "    torch.cuda.empty_cache()"
   ]
  },
  {
   "cell_type": "markdown",
   "metadata": {},
   "source": []
  },
  {
   "cell_type": "code",
   "execution_count": 11,
   "metadata": {},
   "outputs": [
    {
     "name": "stdout",
     "output_type": "stream",
     "text": [
      "==========Training VAR==========\n"
     ]
    },
    {
     "name": "stderr",
     "output_type": "stream",
     "text": [
      "/tmp/ipykernel_43419/3453378021.py:8: FutureWarning: You are using `torch.load` with `weights_only=False` (the current default value), which uses the default pickle module implicitly. It is possible to construct malicious pickle data which will execute arbitrary code during unpickling (See https://github.com/pytorch/pytorch/blob/main/SECURITY.md#untrusted-models for more details). In a future release, the default value for `weights_only` will be flipped to `True`. This limits the functions that could be executed during unpickling. Arbitrary objects will no longer be allowed to be loaded via this mode unless they are explicitly allowlisted by the user via `torch.serialization.add_safe_globals`. We recommend you start setting `weights_only=True` for any use case where you don't have full control of the loaded file. Please open an issue on GitHub for any issues related to this experimental feature.\n",
      "  vqvae.load_state_dict(torch.load(\"../logs/var/vqvae/2025-02-23_11-26-09/vqvae_animal_faces.pth\"))  # LOADS the trained VQVAE model\n"
     ]
    },
    {
     "name": "stdout",
     "output_type": "stream",
     "text": [
      "VQVAE Parameters: 16.68M\n",
      "VAR Parameters: 111.84M\n",
      "229 23\n"
     ]
    },
    {
     "ename": "OutOfMemoryError",
     "evalue": "CUDA out of memory. Tried to allocate 2.00 MiB. GPU 0 has a total capacity of 23.67 GiB of which 832.00 KiB is free. Including non-PyTorch memory, this process has 23.48 GiB memory in use. Of the allocated memory 22.95 GiB is allocated by PyTorch, and 228.58 MiB is reserved by PyTorch but unallocated. If reserved but unallocated memory is large try setting PYTORCH_CUDA_ALLOC_CONF=expandable_segments:True to avoid fragmentation.  See documentation for Memory Management  (https://pytorch.org/docs/stable/notes/cuda.html#environment-variables)",
     "output_type": "error",
     "traceback": [
      "\u001b[0;31m---------------------------------------------------------------------------\u001b[0m",
      "\u001b[0;31mOutOfMemoryError\u001b[0m                          Traceback (most recent call last)",
      "Cell \u001b[0;32mIn[11], line 33\u001b[0m\n\u001b[1;32m     28\u001b[0m \u001b[38;5;28mprint\u001b[39m(\u001b[38;5;124mf\u001b[39m\u001b[38;5;124m\"\u001b[39m\u001b[38;5;124mVAR Parameters: \u001b[39m\u001b[38;5;132;01m{\u001b[39;00m\u001b[38;5;28msum\u001b[39m(p\u001b[38;5;241m.\u001b[39mnumel() \u001b[38;5;28;01mfor\u001b[39;00m p \u001b[38;5;129;01min\u001b[39;00m var_model\u001b[38;5;241m.\u001b[39mparameters())\u001b[38;5;241m/\u001b[39m\u001b[38;5;241m1e6\u001b[39m\u001b[38;5;132;01m:\u001b[39;00m\u001b[38;5;124m.2f\u001b[39m\u001b[38;5;132;01m}\u001b[39;00m\u001b[38;5;124mM\u001b[39m\u001b[38;5;124m\"\u001b[39m)\n\u001b[1;32m     30\u001b[0m train_loader, test_loader \u001b[38;5;241m=\u001b[39m get_data(\n\u001b[1;32m     31\u001b[0m     batch_size\u001b[38;5;241m=\u001b[39mtraining_params[\u001b[38;5;124m\"\u001b[39m\u001b[38;5;124mVAR\u001b[39m\u001b[38;5;124m\"\u001b[39m][\u001b[38;5;124m\"\u001b[39m\u001b[38;5;124mbatch_size\u001b[39m\u001b[38;5;124m\"\u001b[39m], dataset\u001b[38;5;241m=\u001b[39mdataset\n\u001b[1;32m     32\u001b[0m )\n\u001b[0;32m---> 33\u001b[0m var_model \u001b[38;5;241m=\u001b[39m \u001b[43mvar_model\u001b[49m\u001b[38;5;241;43m.\u001b[39;49m\u001b[43mto\u001b[49m\u001b[43m(\u001b[49m\u001b[38;5;124;43m\"\u001b[39;49m\u001b[38;5;124;43mcuda\u001b[39;49m\u001b[38;5;124;43m\"\u001b[39;49m\u001b[43m)\u001b[49m\n\u001b[1;32m     34\u001b[0m \u001b[38;5;28;01mfor\u001b[39;00m epoch \u001b[38;5;129;01min\u001b[39;00m tqdm(\u001b[38;5;28mrange\u001b[39m(training_params[\u001b[38;5;124m\"\u001b[39m\u001b[38;5;124mVAR\u001b[39m\u001b[38;5;124m\"\u001b[39m][\u001b[38;5;124m\"\u001b[39m\u001b[38;5;124mepochs\u001b[39m\u001b[38;5;124m\"\u001b[39m])):\n\u001b[1;32m     35\u001b[0m     epoch_loss \u001b[38;5;241m=\u001b[39m \u001b[38;5;241m0\u001b[39m\n",
      "File \u001b[0;32m~/.local/lib/python3.10/site-packages/torch/nn/modules/module.py:1174\u001b[0m, in \u001b[0;36mModule.to\u001b[0;34m(self, *args, **kwargs)\u001b[0m\n\u001b[1;32m   1171\u001b[0m         \u001b[38;5;28;01melse\u001b[39;00m:\n\u001b[1;32m   1172\u001b[0m             \u001b[38;5;28;01mraise\u001b[39;00m\n\u001b[0;32m-> 1174\u001b[0m \u001b[38;5;28;01mreturn\u001b[39;00m \u001b[38;5;28;43mself\u001b[39;49m\u001b[38;5;241;43m.\u001b[39;49m\u001b[43m_apply\u001b[49m\u001b[43m(\u001b[49m\u001b[43mconvert\u001b[49m\u001b[43m)\u001b[49m\n",
      "File \u001b[0;32m~/.local/lib/python3.10/site-packages/torch/nn/modules/module.py:780\u001b[0m, in \u001b[0;36mModule._apply\u001b[0;34m(self, fn, recurse)\u001b[0m\n\u001b[1;32m    778\u001b[0m \u001b[38;5;28;01mif\u001b[39;00m recurse:\n\u001b[1;32m    779\u001b[0m     \u001b[38;5;28;01mfor\u001b[39;00m module \u001b[38;5;129;01min\u001b[39;00m \u001b[38;5;28mself\u001b[39m\u001b[38;5;241m.\u001b[39mchildren():\n\u001b[0;32m--> 780\u001b[0m         \u001b[43mmodule\u001b[49m\u001b[38;5;241;43m.\u001b[39;49m\u001b[43m_apply\u001b[49m\u001b[43m(\u001b[49m\u001b[43mfn\u001b[49m\u001b[43m)\u001b[49m\n\u001b[1;32m    782\u001b[0m \u001b[38;5;28;01mdef\u001b[39;00m \u001b[38;5;21mcompute_should_use_set_data\u001b[39m(tensor, tensor_applied):\n\u001b[1;32m    783\u001b[0m     \u001b[38;5;28;01mif\u001b[39;00m torch\u001b[38;5;241m.\u001b[39m_has_compatible_shallow_copy_type(tensor, tensor_applied):\n\u001b[1;32m    784\u001b[0m         \u001b[38;5;66;03m# If the new tensor has compatible tensor type as the existing tensor,\u001b[39;00m\n\u001b[1;32m    785\u001b[0m         \u001b[38;5;66;03m# the current behavior is to change the tensor in-place using `.data =`,\u001b[39;00m\n\u001b[0;32m   (...)\u001b[0m\n\u001b[1;32m    790\u001b[0m         \u001b[38;5;66;03m# global flag to let the user control whether they want the future\u001b[39;00m\n\u001b[1;32m    791\u001b[0m         \u001b[38;5;66;03m# behavior of overwriting the existing tensor or not.\u001b[39;00m\n",
      "File \u001b[0;32m~/.local/lib/python3.10/site-packages/torch/nn/modules/module.py:780\u001b[0m, in \u001b[0;36mModule._apply\u001b[0;34m(self, fn, recurse)\u001b[0m\n\u001b[1;32m    778\u001b[0m \u001b[38;5;28;01mif\u001b[39;00m recurse:\n\u001b[1;32m    779\u001b[0m     \u001b[38;5;28;01mfor\u001b[39;00m module \u001b[38;5;129;01min\u001b[39;00m \u001b[38;5;28mself\u001b[39m\u001b[38;5;241m.\u001b[39mchildren():\n\u001b[0;32m--> 780\u001b[0m         \u001b[43mmodule\u001b[49m\u001b[38;5;241;43m.\u001b[39;49m\u001b[43m_apply\u001b[49m\u001b[43m(\u001b[49m\u001b[43mfn\u001b[49m\u001b[43m)\u001b[49m\n\u001b[1;32m    782\u001b[0m \u001b[38;5;28;01mdef\u001b[39;00m \u001b[38;5;21mcompute_should_use_set_data\u001b[39m(tensor, tensor_applied):\n\u001b[1;32m    783\u001b[0m     \u001b[38;5;28;01mif\u001b[39;00m torch\u001b[38;5;241m.\u001b[39m_has_compatible_shallow_copy_type(tensor, tensor_applied):\n\u001b[1;32m    784\u001b[0m         \u001b[38;5;66;03m# If the new tensor has compatible tensor type as the existing tensor,\u001b[39;00m\n\u001b[1;32m    785\u001b[0m         \u001b[38;5;66;03m# the current behavior is to change the tensor in-place using `.data =`,\u001b[39;00m\n\u001b[0;32m   (...)\u001b[0m\n\u001b[1;32m    790\u001b[0m         \u001b[38;5;66;03m# global flag to let the user control whether they want the future\u001b[39;00m\n\u001b[1;32m    791\u001b[0m         \u001b[38;5;66;03m# behavior of overwriting the existing tensor or not.\u001b[39;00m\n",
      "    \u001b[0;31m[... skipping similar frames: Module._apply at line 780 (1 times)]\u001b[0m\n",
      "File \u001b[0;32m~/.local/lib/python3.10/site-packages/torch/nn/modules/module.py:780\u001b[0m, in \u001b[0;36mModule._apply\u001b[0;34m(self, fn, recurse)\u001b[0m\n\u001b[1;32m    778\u001b[0m \u001b[38;5;28;01mif\u001b[39;00m recurse:\n\u001b[1;32m    779\u001b[0m     \u001b[38;5;28;01mfor\u001b[39;00m module \u001b[38;5;129;01min\u001b[39;00m \u001b[38;5;28mself\u001b[39m\u001b[38;5;241m.\u001b[39mchildren():\n\u001b[0;32m--> 780\u001b[0m         \u001b[43mmodule\u001b[49m\u001b[38;5;241;43m.\u001b[39;49m\u001b[43m_apply\u001b[49m\u001b[43m(\u001b[49m\u001b[43mfn\u001b[49m\u001b[43m)\u001b[49m\n\u001b[1;32m    782\u001b[0m \u001b[38;5;28;01mdef\u001b[39;00m \u001b[38;5;21mcompute_should_use_set_data\u001b[39m(tensor, tensor_applied):\n\u001b[1;32m    783\u001b[0m     \u001b[38;5;28;01mif\u001b[39;00m torch\u001b[38;5;241m.\u001b[39m_has_compatible_shallow_copy_type(tensor, tensor_applied):\n\u001b[1;32m    784\u001b[0m         \u001b[38;5;66;03m# If the new tensor has compatible tensor type as the existing tensor,\u001b[39;00m\n\u001b[1;32m    785\u001b[0m         \u001b[38;5;66;03m# the current behavior is to change the tensor in-place using `.data =`,\u001b[39;00m\n\u001b[0;32m   (...)\u001b[0m\n\u001b[1;32m    790\u001b[0m         \u001b[38;5;66;03m# global flag to let the user control whether they want the future\u001b[39;00m\n\u001b[1;32m    791\u001b[0m         \u001b[38;5;66;03m# behavior of overwriting the existing tensor or not.\u001b[39;00m\n",
      "File \u001b[0;32m~/.local/lib/python3.10/site-packages/torch/nn/modules/module.py:805\u001b[0m, in \u001b[0;36mModule._apply\u001b[0;34m(self, fn, recurse)\u001b[0m\n\u001b[1;32m    801\u001b[0m \u001b[38;5;66;03m# Tensors stored in modules are graph leaves, and we don't want to\u001b[39;00m\n\u001b[1;32m    802\u001b[0m \u001b[38;5;66;03m# track autograd history of `param_applied`, so we have to use\u001b[39;00m\n\u001b[1;32m    803\u001b[0m \u001b[38;5;66;03m# `with torch.no_grad():`\u001b[39;00m\n\u001b[1;32m    804\u001b[0m \u001b[38;5;28;01mwith\u001b[39;00m torch\u001b[38;5;241m.\u001b[39mno_grad():\n\u001b[0;32m--> 805\u001b[0m     param_applied \u001b[38;5;241m=\u001b[39m \u001b[43mfn\u001b[49m\u001b[43m(\u001b[49m\u001b[43mparam\u001b[49m\u001b[43m)\u001b[49m\n\u001b[1;32m    806\u001b[0m p_should_use_set_data \u001b[38;5;241m=\u001b[39m compute_should_use_set_data(param, param_applied)\n\u001b[1;32m    808\u001b[0m \u001b[38;5;66;03m# subclasses may have multiple child tensors so we need to use swap_tensors\u001b[39;00m\n",
      "File \u001b[0;32m~/.local/lib/python3.10/site-packages/torch/nn/modules/module.py:1160\u001b[0m, in \u001b[0;36mModule.to.<locals>.convert\u001b[0;34m(t)\u001b[0m\n\u001b[1;32m   1153\u001b[0m     \u001b[38;5;28;01mif\u001b[39;00m convert_to_format \u001b[38;5;129;01mis\u001b[39;00m \u001b[38;5;129;01mnot\u001b[39;00m \u001b[38;5;28;01mNone\u001b[39;00m \u001b[38;5;129;01mand\u001b[39;00m t\u001b[38;5;241m.\u001b[39mdim() \u001b[38;5;129;01min\u001b[39;00m (\u001b[38;5;241m4\u001b[39m, \u001b[38;5;241m5\u001b[39m):\n\u001b[1;32m   1154\u001b[0m         \u001b[38;5;28;01mreturn\u001b[39;00m t\u001b[38;5;241m.\u001b[39mto(\n\u001b[1;32m   1155\u001b[0m             device,\n\u001b[1;32m   1156\u001b[0m             dtype \u001b[38;5;28;01mif\u001b[39;00m t\u001b[38;5;241m.\u001b[39mis_floating_point() \u001b[38;5;129;01mor\u001b[39;00m t\u001b[38;5;241m.\u001b[39mis_complex() \u001b[38;5;28;01melse\u001b[39;00m \u001b[38;5;28;01mNone\u001b[39;00m,\n\u001b[1;32m   1157\u001b[0m             non_blocking,\n\u001b[1;32m   1158\u001b[0m             memory_format\u001b[38;5;241m=\u001b[39mconvert_to_format,\n\u001b[1;32m   1159\u001b[0m         )\n\u001b[0;32m-> 1160\u001b[0m     \u001b[38;5;28;01mreturn\u001b[39;00m \u001b[43mt\u001b[49m\u001b[38;5;241;43m.\u001b[39;49m\u001b[43mto\u001b[49m\u001b[43m(\u001b[49m\n\u001b[1;32m   1161\u001b[0m \u001b[43m        \u001b[49m\u001b[43mdevice\u001b[49m\u001b[43m,\u001b[49m\n\u001b[1;32m   1162\u001b[0m \u001b[43m        \u001b[49m\u001b[43mdtype\u001b[49m\u001b[43m \u001b[49m\u001b[38;5;28;43;01mif\u001b[39;49;00m\u001b[43m \u001b[49m\u001b[43mt\u001b[49m\u001b[38;5;241;43m.\u001b[39;49m\u001b[43mis_floating_point\u001b[49m\u001b[43m(\u001b[49m\u001b[43m)\u001b[49m\u001b[43m \u001b[49m\u001b[38;5;129;43;01mor\u001b[39;49;00m\u001b[43m \u001b[49m\u001b[43mt\u001b[49m\u001b[38;5;241;43m.\u001b[39;49m\u001b[43mis_complex\u001b[49m\u001b[43m(\u001b[49m\u001b[43m)\u001b[49m\u001b[43m \u001b[49m\u001b[38;5;28;43;01melse\u001b[39;49;00m\u001b[43m \u001b[49m\u001b[38;5;28;43;01mNone\u001b[39;49;00m\u001b[43m,\u001b[49m\n\u001b[1;32m   1163\u001b[0m \u001b[43m        \u001b[49m\u001b[43mnon_blocking\u001b[49m\u001b[43m,\u001b[49m\n\u001b[1;32m   1164\u001b[0m \u001b[43m    \u001b[49m\u001b[43m)\u001b[49m\n\u001b[1;32m   1165\u001b[0m \u001b[38;5;28;01mexcept\u001b[39;00m \u001b[38;5;167;01mNotImplementedError\u001b[39;00m \u001b[38;5;28;01mas\u001b[39;00m e:\n\u001b[1;32m   1166\u001b[0m     \u001b[38;5;28;01mif\u001b[39;00m \u001b[38;5;28mstr\u001b[39m(e) \u001b[38;5;241m==\u001b[39m \u001b[38;5;124m\"\u001b[39m\u001b[38;5;124mCannot copy out of meta tensor; no data!\u001b[39m\u001b[38;5;124m\"\u001b[39m:\n",
      "\u001b[0;31mOutOfMemoryError\u001b[0m: CUDA out of memory. Tried to allocate 2.00 MiB. GPU 0 has a total capacity of 23.67 GiB of which 832.00 KiB is free. Including non-PyTorch memory, this process has 23.48 GiB memory in use. Of the allocated memory 22.95 GiB is allocated by PyTorch, and 228.58 MiB is reserved by PyTorch but unallocated. If reserved but unallocated memory is large try setting PYTORCH_CUDA_ALLOC_CONF=expandable_segments:True to avoid fragmentation.  See documentation for Memory Management  (https://pytorch.org/docs/stable/notes/cuda.html#environment-variables)"
     ]
    }
   ],
   "source": [
    "print(\"=\" * 10 + \"Training VAR\" + \"=\" * 10)\n",
    "vqvae = VQVAE(\n",
    "    model_params[\"VQVAE_DIM\"],\n",
    "    model_params[\"VOCAB_SIZE\"],\n",
    "    model_params[\"PATCH_SIZES\"],\n",
    "    num_channels=model_params[\"channels\"],\n",
    ")\n",
    "vqvae.load_state_dict(torch.load(\"../logs/var/vqvae/2025-02-23_11-26-09/vqvae_animal_faces.pth\"))  # LOADS the trained VQVAE model\n",
    "vqvae = vqvae.to(\"cuda\")\n",
    "vqvae.eval()\n",
    "\n",
    "for param in vqvae.parameters():\n",
    "    param.requires_grad = False\n",
    "\n",
    "var_model = VAR(\n",
    "    vqvae=vqvae,\n",
    "    dim=model_params[\"VAR_DIM\"],\n",
    "    n_heads=model_params[\"N_HEADS\"],\n",
    "    n_layers=model_params[\"N_LAYERS\"],\n",
    "    patch_sizes=model_params[\"PATCH_SIZES\"],\n",
    "    n_classes=10,\n",
    ")\n",
    "optimizer = torch.optim.AdamW(\n",
    "    var_model.parameters(), lr=training_params[\"VAR\"][\"lr\"]\n",
    ")\n",
    "\n",
    "print(f\"VQVAE Parameters: {sum(p.numel() for p in vqvae.parameters())/1e6:.2f}M\")\n",
    "print(f\"VAR Parameters: {sum(p.numel() for p in var_model.parameters())/1e6:.2f}M\")\n",
    "\n",
    "train_loader, test_loader = get_data(\n",
    "    batch_size=training_params[\"VAR\"][\"batch_size\"], dataset=dataset\n",
    ")\n",
    "var_model = var_model.to(\"cuda\")\n",
    "for epoch in tqdm(range(training_params[\"VAR\"][\"epochs\"])):\n",
    "    epoch_loss = 0\n",
    "    for i, (x, c) in enumerate(train_loader):\n",
    "        x, c = x.cuda(), c.cuda()\n",
    "        optimizer.zero_grad()\n",
    "\n",
    "        _, _, idxs_R_BL, scales_BlC, _ = vqvae(x)\n",
    "        idx_BL = torch.cat(idxs_R_BL, dim=1)\n",
    "        scales_BlC = scales_BlC.cuda()\n",
    "        logits_BLV = var_model(scales_BlC, cond=c)\n",
    "        loss = F.cross_entropy(\n",
    "            logits_BLV.view(-1, logits_BLV.size(-1)), idx_BL.view(-1)\n",
    "        )\n",
    "\n",
    "        loss.backward()\n",
    "        optimizer.step()\n",
    "\n",
    "        epoch_loss += loss.item()\n",
    "\n",
    "    epoch_loss /= len(train_loader)\n",
    "    print(f\"Epoch: {epoch}, Loss: {epoch_loss}\")\n",
    "\n",
    "    if epoch % 5 == 0:\n",
    "        with torch.no_grad():\n",
    "\n",
    "            cond = torch.arange(10).cuda()\n",
    "            out_B3HW = var_model.generate(cond, 0)\n",
    "            plot_images(pred=out_B3HW)\n",
    "\n",
    "            plt.savefig(f\"var_{epoch}.png\")\n",
    "            plt.close()\n",
    "    \n",
    "    if epoch % 10 == 0:\n",
    "        torch.save(var_model.state_dict(), \"var.pth\")\n",
    "\n",
    "torch.save(var_model.state_dict(), \"var.pth\")"
   ]
  },
  {
   "cell_type": "code",
   "execution_count": null,
   "metadata": {},
   "outputs": [],
   "source": []
  },
  {
   "cell_type": "markdown",
   "metadata": {},
   "source": []
  },
  {
   "cell_type": "code",
   "execution_count": null,
   "metadata": {},
   "outputs": [],
   "source": []
  },
  {
   "cell_type": "markdown",
   "metadata": {},
   "source": [
    "# Test Quality of VQVAE\n",
    "\n",
    "To test the quality of the vqvae we take a ground truth image pass it through the vqvae, change a few of the tokens, and then pass it through the decoder.\n",
    "\n"
   ]
  },
  {
   "cell_type": "code",
   "execution_count": 6,
   "metadata": {},
   "outputs": [
    {
     "name": "stderr",
     "output_type": "stream",
     "text": [
      "/tmp/ipykernel_42854/2028737188.py:8: FutureWarning: You are using `torch.load` with `weights_only=False` (the current default value), which uses the default pickle module implicitly. It is possible to construct malicious pickle data which will execute arbitrary code during unpickling (See https://github.com/pytorch/pytorch/blob/main/SECURITY.md#untrusted-models for more details). In a future release, the default value for `weights_only` will be flipped to `True`. This limits the functions that could be executed during unpickling. Arbitrary objects will no longer be allowed to be loaded via this mode unless they are explicitly allowlisted by the user via `torch.serialization.add_safe_globals`. We recommend you start setting `weights_only=True` for any use case where you don't have full control of the loaded file. Please open an issue on GitHub for any issues related to this experimental feature.\n",
      "  vq_model.load_state_dict(torch.load(f\"../logs/var/vqvae/2025-02-23_11-26-09/vqvae_animal_faces.pth\"))\n"
     ]
    },
    {
     "name": "stdout",
     "output_type": "stream",
     "text": [
      "14630 1500\n"
     ]
    }
   ],
   "source": [
    "vq_model = VQVAE(\n",
    "    dim=model_params[\"VQVAE_DIM\"],\n",
    "    vocab_size=model_params[\"VOCAB_SIZE\"],\n",
    "    patch_sizes=model_params[\"PATCH_SIZES\"],\n",
    "    num_channels=model_params[\"channels\"],\n",
    ").cuda()\n",
    "# vq_model.load_state_dict(torch.load(\"vqvae.pth\"))\n",
    "vq_model.load_state_dict(torch.load(f\"../logs/var/vqvae/2025-02-23_11-26-09/vqvae_animal_faces.pth\"))\n",
    "\n",
    "train_loader, test_loader = get_data(\n",
    "    batch_size=1, dataset=dataset\n",
    ")\n",
    "x = next(iter(train_loader))[0].cuda()\n"
   ]
  },
  {
   "cell_type": "code",
   "execution_count": 7,
   "metadata": {},
   "outputs": [
    {
     "data": {
      "image/png": "[encoded data removed]",
      "text/plain": [
       "<Figure size 640x480 with 1 Axes>"
      ]
     },
     "metadata": {},
     "output_type": "display_data"
    }
   ],
   "source": [
    "with torch.no_grad():\n",
    "    latent = vq_model.encoder(x)\n",
    "    fhat, r_maps, idxs, scales, loss = vq_model.quantizer(latent)\n",
    "    x_hat = vq_model.decoder(fhat)\n",
    "\n",
    "    plot_images(x_hat, original=x)\n"
   ]
  },
  {
   "cell_type": "code",
   "execution_count": 39,
   "metadata": {},
   "outputs": [
    {
     "name": "stdout",
     "output_type": "stream",
     "text": [
      "torch.Size([1, 256, 8, 8])\n",
      "2 1\n",
      "4 6\n",
      "7 6\n",
      "6 4\n",
      "7 6\n",
      "7 5\n",
      "2 7\n",
      "7 5\n"
     ]
    },
    {
     "data": {
      "image/png": "[encoded data removed]",
      "text/plain": [
       "<Figure size 640x480 with 1 Axes>"
      ]
     },
     "metadata": {},
     "output_type": "display_data"
    }
   ],
   "source": [
    "\n",
    "import random\n",
    "\n",
    "\n",
    "with torch.no_grad():\n",
    "    latent = vq_model.encoder(x)\n",
    "    fhat, r_maps, idxs, scales, loss = vq_model.quantizer(latent)\n",
    "\n",
    "    print(fhat.shape)\n",
    "\n",
    "    # For 5 random patches, change the vector to a random vector from the codebook\n",
    "    for i in range(8):\n",
    "        random_x = random.randint(0, fhat.shape[2] - 1)\n",
    "        random_y = random.randint(0, fhat.shape[3] - 1)\n",
    "        print(random_x, random_y)\n",
    "        new_vector = vq_model.quantizer.codebook(torch.randint(0, model_params[\"VOCAB_SIZE\"], (1,)).cuda())\n",
    "        fhat[0, :, random_x, random_y] = new_vector\n",
    "    # new_vector = vq_model.quantizer.codebook(torch.tensor(500).cuda())\n",
    "    # fhat[0, :, 0, 0] = new_vector\n",
    "\n",
    "    # Decode the altered latent\n",
    "    x_hat = vq_model.decoder(fhat)\n",
    "\n",
    "    plot_images(x_hat, original=x)\n"
   ]
  },
  {
   "cell_type": "code",
   "execution_count": null,
   "metadata": {},
   "outputs": [],
   "source": []
  },
  {
   "cell_type": "code",
   "execution_count": null,
   "metadata": {},
   "outputs": [],
   "source": []
  }
 ],
 "metadata": {
  "kernelspec": {
   "display_name": "Python 3",
   "language": "python",
   "name": "python3"
  },
  "language_info": {
   "codemirror_mode": {
    "name": "ipython",
    "version": 3
   },
   "file_extension": ".py",
   "mimetype": "text/x-python",
   "name": "python",
   "nbconvert_exporter": "python",
   "pygments_lexer": "ipython3",
   "version": "3.10.12"
  }
 },
 "nbformat": 4,
 "nbformat_minor": 2
}
