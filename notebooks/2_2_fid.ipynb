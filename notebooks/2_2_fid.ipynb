{
 "cells": [
  {
   "cell_type": "markdown",
   "id": "6aa51452",
   "metadata": {
    "papermill": {
     "duration": 0.004236,
     "end_time": "2024-12-16T22:00:43.083497",
     "exception": false,
     "start_time": "2024-12-16T22:00:43.079261",
     "status": "completed"
    },
    "tags": []
   },
   "source": [
    "# Quality evaluation of an image generation model\n",
    "\n",
    "## FID\n",
    "\n",
    "The Chamfer distance that we used in the previous notebook is a distance between point clouds. It is based on Euclidean distance, which works for low-dimensional data such as 2D points. For high-dimensional data such as images, the Euclidean distance is not a good measure, because the distance between two images can be high even if they are very similar.\n",
    "\n",
    "The Fréchet Inception Distance (FID) is a metric that measures the distance between two distributions of images. A lower score means better quality. It is based on the Fréchet distance, which is a distance between Gaussian distributions. \"Inception\" here refers to a pre-trained Inception-v3 model, which is a convolutional neural network that was trained to classify images into 1000 categories. We can use the intermediate features of this model to measure the distance between two distributions of images.\n",
    "\n",
    "The limitations of FID include:\n",
    "\n",
    "- It assumes Gaussian distribution of features.\n",
    "- It is sensitive to sample size and requires large sample sizes for stable estimates, which means it is computationally expensive.\n",
    "\n",
    "Other metrics include:\n",
    "\n",
    "- Inception Score (IS): measures both the diversity and quality of generated images. It may give misleading scores for specialized datasets (e.g., medical images, abstract art).\n",
    "- LPIPS (Learned Perceptual Image Patch Similarity). It is good at measureing individual image quality, and more suitable for tasks like style transfer, image reconstruction.\n",
    "- PSNR (Peak Signal-to-Noise Ratio). It measures pixel-level reconstruction quality,and does not measure perceptual quality.\n",
    "- SSIM (Structural Similarity Index). It measures image quality based on luminance and contrast, and does not measure perceptual quality.\n",
    "- Arena-style human evaluation: compare generated images from different models side by side, and ask human experts to choose the better one.\n",
    "\n",
    "We are going to use the package`clean-fid`. As a santity check for the metric, let's take a pre-trained model from huggingface with known good quality, and see what the FID score looks like."
   ]
  },
  {
   "cell_type": "markdown",
   "id": "dc3dfe69",
   "metadata": {
    "papermill": {
     "duration": 0.003797,
     "end_time": "2024-12-16T22:00:43.091590",
     "exception": false,
     "start_time": "2024-12-16T22:00:43.087793",
     "status": "completed"
    },
    "tags": []
   },
   "source": [
    "#### Install the package"
   ]
  },
  {
   "cell_type": "code",
   "execution_count": 1,
   "id": "4d313b30",
   "metadata": {
    "execution": {
     "iopub.execute_input": "2024-12-16T22:00:43.100446Z",
     "iopub.status.busy": "2024-12-16T22:00:43.099996Z",
     "iopub.status.idle": "2024-12-16T22:00:44.095507Z",
     "shell.execute_reply": "2024-12-16T22:00:44.095035Z"
    },
    "papermill": {
     "duration": 1.001573,
     "end_time": "2024-12-16T22:00:44.096787",
     "exception": false,
     "start_time": "2024-12-16T22:00:43.095214",
     "status": "completed"
    },
    "tags": []
   },
   "outputs": [
    {
     "name": "stdout",
     "output_type": "stream",
     "text": [
      "Defaulting to user installation because normal site-packages is not writeable\r\n"
     ]
    },
    {
     "name": "stdout",
     "output_type": "stream",
     "text": [
      "\u001b[33mWARNING: Ignoring invalid distribution ~vidia-cusparse-cu12 (/home/ubuntu/.local/lib/python3.11/site-packages)\u001b[0m\u001b[33m\r\n",
      "\u001b[0m\u001b[33mWARNING: Ignoring invalid distribution ~vidia-cusparse-cu12 (/home/ubuntu/.local/lib/python3.11/site-packages)\u001b[0m\u001b[33m\r\n",
      "\u001b[0mRequirement already satisfied: clean-fid in /home/ubuntu/.local/lib/python3.11/site-packages (0.1.35)\r\n",
      "Requirement already satisfied: torch in /home/ubuntu/.local/lib/python3.11/site-packages (from clean-fid) (2.5.1)\r\n",
      "Requirement already satisfied: torchvision in /home/ubuntu/.local/lib/python3.11/site-packages (from clean-fid) (0.20.1)\r\n",
      "Requirement already satisfied: numpy>=1.14.3 in /home/ubuntu/.local/lib/python3.11/site-packages (from clean-fid) (1.26.4)\r\n",
      "Requirement already satisfied: scipy>=1.0.1 in /home/ubuntu/.local/lib/python3.11/site-packages (from clean-fid) (1.14.0)\r\n",
      "Requirement already satisfied: tqdm>=4.28.1 in /home/ubuntu/.local/lib/python3.11/site-packages (from clean-fid) (4.66.5)\r\n",
      "Requirement already satisfied: pillow>=8.1 in /home/ubuntu/.local/lib/python3.11/site-packages (from clean-fid) (10.2.0)\r\n"
     ]
    },
    {
     "name": "stdout",
     "output_type": "stream",
     "text": [
      "Requirement already satisfied: requests in /home/ubuntu/.local/lib/python3.11/site-packages (from clean-fid) (2.32.3)\r\n",
      "Requirement already satisfied: charset-normalizer<4,>=2 in /opt/miniconda/lib/python3.11/site-packages (from requests->clean-fid) (2.0.4)\r\n",
      "Requirement already satisfied: idna<4,>=2.5 in /opt/miniconda/lib/python3.11/site-packages (from requests->clean-fid) (3.4)\r\n",
      "Requirement already satisfied: urllib3<3,>=1.21.1 in /opt/miniconda/lib/python3.11/site-packages (from requests->clean-fid) (1.26.18)\r\n",
      "Requirement already satisfied: certifi>=2017.4.17 in /opt/miniconda/lib/python3.11/site-packages (from requests->clean-fid) (2023.7.22)\r\n",
      "Requirement already satisfied: filelock in /home/ubuntu/.local/lib/python3.11/site-packages (from torch->clean-fid) (3.13.3)\r\n",
      "Requirement already satisfied: typing-extensions>=4.8.0 in /home/ubuntu/.local/lib/python3.11/site-packages (from torch->clean-fid) (4.10.0)\r\n",
      "Requirement already satisfied: networkx in /home/ubuntu/.local/lib/python3.11/site-packages (from torch->clean-fid) (3.2.1)\r\n",
      "Requirement already satisfied: jinja2 in /home/ubuntu/.local/lib/python3.11/site-packages (from torch->clean-fid) (3.1.4)\r\n",
      "Requirement already satisfied: fsspec in /home/ubuntu/.local/lib/python3.11/site-packages (from torch->clean-fid) (2024.3.1)\r\n",
      "Requirement already satisfied: nvidia-cuda-nvrtc-cu12==12.4.127 in /home/ubuntu/.local/lib/python3.11/site-packages (from torch->clean-fid) (12.4.127)\r\n",
      "Requirement already satisfied: nvidia-cuda-runtime-cu12==12.4.127 in /home/ubuntu/.local/lib/python3.11/site-packages (from torch->clean-fid) (12.4.127)\r\n",
      "Requirement already satisfied: nvidia-cuda-cupti-cu12==12.4.127 in /home/ubuntu/.local/lib/python3.11/site-packages (from torch->clean-fid) (12.4.127)\r\n",
      "Requirement already satisfied: nvidia-cudnn-cu12==9.1.0.70 in /home/ubuntu/.local/lib/python3.11/site-packages (from torch->clean-fid) (9.1.0.70)\r\n",
      "Requirement already satisfied: nvidia-cublas-cu12==12.4.5.8 in /home/ubuntu/.local/lib/python3.11/site-packages (from torch->clean-fid) (12.4.5.8)\r\n",
      "Requirement already satisfied: nvidia-cufft-cu12==11.2.1.3 in /home/ubuntu/.local/lib/python3.11/site-packages (from torch->clean-fid) (11.2.1.3)\r\n",
      "Requirement already satisfied: nvidia-curand-cu12==10.3.5.147 in /home/ubuntu/.local/lib/python3.11/site-packages (from torch->clean-fid) (10.3.5.147)\r\n",
      "Requirement already satisfied: nvidia-cusolver-cu12==11.6.1.9 in /home/ubuntu/.local/lib/python3.11/site-packages (from torch->clean-fid) (11.6.1.9)\r\n",
      "Requirement already satisfied: nvidia-cusparse-cu12==12.3.1.170 in /home/ubuntu/.local/lib/python3.11/site-packages (from torch->clean-fid) (12.3.1.170)\r\n",
      "Requirement already satisfied: nvidia-nccl-cu12==2.21.5 in /home/ubuntu/.local/lib/python3.11/site-packages (from torch->clean-fid) (2.21.5)\r\n",
      "Requirement already satisfied: nvidia-nvtx-cu12==12.4.127 in /home/ubuntu/.local/lib/python3.11/site-packages (from torch->clean-fid) (12.4.127)\r\n",
      "Requirement already satisfied: nvidia-nvjitlink-cu12==12.4.127 in /home/ubuntu/.local/lib/python3.11/site-packages (from torch->clean-fid) (12.4.127)\r\n",
      "Requirement already satisfied: triton==3.1.0 in /home/ubuntu/.local/lib/python3.11/site-packages (from torch->clean-fid) (3.1.0)\r\n",
      "Requirement already satisfied: sympy==1.13.1 in /home/ubuntu/.local/lib/python3.11/site-packages (from torch->clean-fid) (1.13.1)\r\n",
      "Requirement already satisfied: mpmath<1.4,>=1.1.0 in /home/ubuntu/.local/lib/python3.11/site-packages (from sympy==1.13.1->torch->clean-fid) (1.3.0)\r\n"
     ]
    },
    {
     "name": "stdout",
     "output_type": "stream",
     "text": [
      "Requirement already satisfied: MarkupSafe>=2.0 in /home/ubuntu/.local/lib/python3.11/site-packages (from jinja2->torch->clean-fid) (2.1.5)\r\n",
      "\u001b[33mWARNING: Ignoring invalid distribution ~vidia-cusparse-cu12 (/home/ubuntu/.local/lib/python3.11/site-packages)\u001b[0m\u001b[33m\r\n",
      "\u001b[0m"
     ]
    },
    {
     "name": "stdout",
     "output_type": "stream",
     "text": [
      "\u001b[33mWARNING: Ignoring invalid distribution ~vidia-cusparse-cu12 (/home/ubuntu/.local/lib/python3.11/site-packages)\u001b[0m\u001b[33m\r\n",
      "\u001b[0m"
     ]
    },
    {
     "name": "stdout",
     "output_type": "stream",
     "text": [
      "\u001b[33mWARNING: Ignoring invalid distribution ~vidia-cusparse-cu12 (/home/ubuntu/.local/lib/python3.11/site-packages)\u001b[0m\u001b[33m\r\n",
      "\u001b[0m\u001b[33mWARNING: Ignoring invalid distribution ~vidia-cusparse-cu12 (/home/ubuntu/.local/lib/python3.11/site-packages)\u001b[0m\u001b[33m\r\n",
      "\u001b[0m"
     ]
    }
   ],
   "source": [
    "!pip install clean-fid"
   ]
  },
  {
   "cell_type": "markdown",
   "id": "e525a77f",
   "metadata": {
    "papermill": {
     "duration": 0.004294,
     "end_time": "2024-12-16T22:00:44.105359",
     "exception": false,
     "start_time": "2024-12-16T22:00:44.101065",
     "status": "completed"
    },
    "tags": []
   },
   "source": [
    "### Load a pre-trained model\n",
    "\n",
    "We are using the model released by Google, which is trained on CIFAR-10 dataset.\n"
   ]
  },
  {
   "cell_type": "code",
   "execution_count": 2,
   "id": "f92e8c5f",
   "metadata": {
    "execution": {
     "iopub.execute_input": "2024-12-16T22:00:44.114972Z",
     "iopub.status.busy": "2024-12-16T22:00:44.114600Z",
     "iopub.status.idle": "2024-12-16T22:00:46.276300Z",
     "shell.execute_reply": "2024-12-16T22:00:46.275873Z"
    },
    "papermill": {
     "duration": 2.167763,
     "end_time": "2024-12-16T22:00:46.277192",
     "exception": false,
     "start_time": "2024-12-16T22:00:44.109429",
     "status": "completed"
    },
    "tags": []
   },
   "outputs": [
    {
     "name": "stdout",
     "output_type": "stream",
     "text": [
      "torch version: 2.5.1+cu124\n",
      "transformers version: 4.47.0\n",
      "diffusers version: 0.31.0\n",
      "xformers version: 0.0.28.post3\n",
      "torchvision version: 0.20.1+cu124\n"
     ]
    }
   ],
   "source": [
    "import torch, transformers, diffusers, xformers, torchvision\n",
    "print(\"torch version:\", torch.__version__)\n",
    "print(\"transformers version:\", transformers.__version__)\n",
    "print(\"diffusers version:\", diffusers.__version__)\n",
    "print(\"xformers version:\", xformers.__version__)\n",
    "print(\"torchvision version:\", torchvision.__version__)"
   ]
  },
  {
   "cell_type": "code",
   "execution_count": 3,
   "id": "c2095fb0",
   "metadata": {
    "execution": {
     "iopub.execute_input": "2024-12-16T22:00:46.286939Z",
     "iopub.status.busy": "2024-12-16T22:00:46.286251Z",
     "iopub.status.idle": "2024-12-16T22:00:49.803119Z",
     "shell.execute_reply": "2024-12-16T22:00:49.802728Z"
    },
    "papermill": {
     "duration": 3.522514,
     "end_time": "2024-12-16T22:00:49.803953",
     "exception": false,
     "start_time": "2024-12-16T22:00:46.281439",
     "status": "completed"
    },
    "tags": []
   },
   "outputs": [
    {
     "name": "stderr",
     "output_type": "stream",
     "text": [
      "2024-12-16 22:00:47.499784: I tensorflow/core/util/port.cc:153] oneDNN custom operations are on. You may see slightly different numerical results due to floating-point round-off errors from different computation orders. To turn them off, set the environment variable `TF_ENABLE_ONEDNN_OPTS=0`.\n",
      "2024-12-16 22:00:47.512904: E external/local_xla/xla/stream_executor/cuda/cuda_fft.cc:485] Unable to register cuFFT factory: Attempting to register factory for plugin cuFFT when one has already been registered\n",
      "2024-12-16 22:00:47.527894: E external/local_xla/xla/stream_executor/cuda/cuda_dnn.cc:8454] Unable to register cuDNN factory: Attempting to register factory for plugin cuDNN when one has already been registered\n",
      "2024-12-16 22:00:47.532473: E external/local_xla/xla/stream_executor/cuda/cuda_blas.cc:1452] Unable to register cuBLAS factory: Attempting to register factory for plugin cuBLAS when one has already been registered\n",
      "2024-12-16 22:00:47.543787: I tensorflow/core/platform/cpu_feature_guard.cc:210] This TensorFlow binary is optimized to use available CPU instructions in performance-critical operations.\n",
      "To enable the following instructions: AVX2 AVX512F AVX512_VNNI FMA, in other operations, rebuild TensorFlow with the appropriate compiler flags.\n"
     ]
    },
    {
     "name": "stderr",
     "output_type": "stream",
     "text": [
      "2024-12-16 22:00:48.384524: W tensorflow/compiler/tf2tensorrt/utils/py_utils.cc:38] TF-TRT Warning: Could not find TensorRT\n"
     ]
    },
    {
     "data": {
      "application/vnd.jupyter.widget-view+json": {
       "model_id": "677e78339e20407498332224d1dcd4b4",
       "version_major": 2,
       "version_minor": 0
      },
      "text/plain": [
       "Loading pipeline components...:   0%|          | 0/2 [00:00<?, ?it/s]"
      ]
     },
     "metadata": {},
     "output_type": "display_data"
    },
    {
     "name": "stderr",
     "output_type": "stream",
     "text": [
      "An error occurred while trying to fetch /home/ubuntu/.cache/huggingface/hub/models--google--ddpm-cifar10-32/snapshots/267b167dc01f0e4e61923ea244e8b988f84deb80: Error no file named diffusion_pytorch_model.safetensors found in directory /home/ubuntu/.cache/huggingface/hub/models--google--ddpm-cifar10-32/snapshots/267b167dc01f0e4e61923ea244e8b988f84deb80.\n"
     ]
    },
    {
     "name": "stderr",
     "output_type": "stream",
     "text": [
      "Defaulting to unsafe serialization. Pass `allow_pickle=False` to raise an error instead.\n"
     ]
    },
    {
     "name": "stdout",
     "output_type": "stream",
     "text": [
      "CPU times: user 2.57 s, sys: 639 ms, total: 3.21 s\n",
      "Wall time: 3.51 s\n"
     ]
    }
   ],
   "source": [
    "%%time\n",
    "from diffusers import DDPMPipeline, DDIMPipeline, PNDMPipeline\n",
    "\n",
    "model_id = \"google/ddpm-cifar10-32\"\n",
    "\n",
    "# load model and scheduler\n",
    "ddpm = DDPMPipeline.from_pretrained(model_id)  # you can replace DDPMPipeline with DDIMPipeline or PNDMPipeline for faster inference\n",
    "ddpm.set_progress_bar_config(disable=True)"
   ]
  },
  {
   "cell_type": "markdown",
   "id": "8270de8d",
   "metadata": {},
   "source": [
    "### Evaluate on 100 images"
   ]
  },
  {
   "cell_type": "code",
   "execution_count": 4,
   "id": "ba2d2f6a",
   "metadata": {
    "execution": {
     "iopub.execute_input": "2024-12-16T22:00:49.814184Z",
     "iopub.status.busy": "2024-12-16T22:00:49.813602Z",
     "iopub.status.idle": "2024-12-16T22:14:38.694846Z",
     "shell.execute_reply": "2024-12-16T22:14:38.694434Z"
    },
    "papermill": {
     "duration": 828.892271,
     "end_time": "2024-12-16T22:14:38.700774",
     "exception": false,
     "start_time": "2024-12-16T22:00:49.808503",
     "status": "completed"
    },
    "tags": []
   },
   "outputs": [
    {
     "data": {
      "application/vnd.jupyter.widget-view+json": {
       "model_id": "c98e51ea6bc44d31a8c4d98ecd5aaf60",
       "version_major": 2,
       "version_minor": 0
      },
      "text/plain": [
       "  0%|          | 0/9 [00:00<?, ?it/s]"
      ]
     },
     "metadata": {},
     "output_type": "display_data"
    },
    {
     "name": "stdout",
     "output_type": "stream",
     "text": [
      "CPU times: user 13min 48s, sys: 272 ms, total: 13min 49s\n",
      "Wall time: 13min 48s\n"
     ]
    }
   ],
   "source": [
    "%%time\n",
    "# run pipeline in inference (sample random noise and denoise)\n",
    "from tqdm.notebook import tqdm\n",
    "ddpm.to(\"cuda\")\n",
    "\n",
    "images = []\n",
    "for _ in tqdm(range(9)):\n",
    "    images += [i for i in ddpm(batch_size=100).images]\n"
   ]
  },
  {
   "cell_type": "markdown",
   "id": "e02697f7",
   "metadata": {
    "papermill": {
     "duration": 0.00439,
     "end_time": "2024-12-16T22:14:38.709785",
     "exception": false,
     "start_time": "2024-12-16T22:14:38.705395",
     "status": "completed"
    },
    "tags": []
   },
   "source": [
    "Visualize the first image:"
   ]
  },
  {
   "cell_type": "code",
   "execution_count": 5,
   "id": "93341d0f",
   "metadata": {
    "execution": {
     "iopub.execute_input": "2024-12-16T22:14:38.719884Z",
     "iopub.status.busy": "2024-12-16T22:14:38.719482Z",
     "iopub.status.idle": "2024-12-16T22:14:38.726439Z",
     "shell.execute_reply": "2024-12-16T22:14:38.726082Z"
    },
    "papermill": {
     "duration": 0.012953,
     "end_time": "2024-12-16T22:14:38.727181",
     "exception": false,
     "start_time": "2024-12-16T22:14:38.714228",
     "status": "completed"
    },
    "tags": []
   },
   "outputs": [
    {
     "data": {
      "image/jpeg": "[encoded data removed]",
      "image/png": "[encoded data removed]",
      "text/plain": [
       "<PIL.Image.Image image mode=RGB size=32x32>"
      ]
     },
     "execution_count": 5,
     "metadata": {},
     "output_type": "execute_result"
    }
   ],
   "source": [
    "images[0]"
   ]
  },
  {
   "cell_type": "markdown",
   "id": "bb910c2f",
   "metadata": {
    "papermill": {
     "duration": 0.004575,
     "end_time": "2024-12-16T22:14:38.736221",
     "exception": false,
     "start_time": "2024-12-16T22:14:38.731646",
     "status": "completed"
    },
    "tags": []
   },
   "source": [
    "#### Calculating FID on the first 100 images\n"
   ]
  },
  {
   "cell_type": "code",
   "execution_count": 6,
   "id": "3e0717c1",
   "metadata": {
    "execution": {
     "iopub.execute_input": "2024-12-16T22:14:38.746358Z",
     "iopub.status.busy": "2024-12-16T22:14:38.745995Z",
     "iopub.status.idle": "2024-12-16T22:14:44.931003Z",
     "shell.execute_reply": "2024-12-16T22:14:44.930519Z"
    },
    "papermill": {
     "duration": 6.191071,
     "end_time": "2024-12-16T22:14:44.931890",
     "exception": false,
     "start_time": "2024-12-16T22:14:38.740819",
     "status": "completed"
    },
    "tags": []
   },
   "outputs": [
    {
     "name": "stdout",
     "output_type": "stream",
     "text": [
      "compute FID of a folder with cifar10 statistics\n"
     ]
    },
    {
     "name": "stdout",
     "output_type": "stream",
     "text": [
      "Found 100 images in the folder results/sampled_img_100\n"
     ]
    },
    {
     "name": "stderr",
     "output_type": "stream",
     "text": [
      "\r\n",
      "FID sampled_img_100 :   0%|                                                                     | 0/50 [00:00<?, ?it/s]"
     ]
    },
    {
     "name": "stderr",
     "output_type": "stream",
     "text": [
      "\r\n",
      "FID sampled_img_100 :   2%|█▏                                                           | 1/50 [00:00<00:24,  1.96it/s]"
     ]
    },
    {
     "name": "stderr",
     "output_type": "stream",
     "text": [
      "\r\n",
      "FID sampled_img_100 :   4%|██▍                                                          | 2/50 [00:02<01:19,  1.66s/it]"
     ]
    },
    {
     "name": "stderr",
     "output_type": "stream",
     "text": [
      "\r\n",
      "FID sampled_img_100 :  40%|████████████████████████                                    | 20/50 [00:03<00:03,  9.26it/s]"
     ]
    },
    {
     "name": "stderr",
     "output_type": "stream",
     "text": [
      "\r\n",
      "FID sampled_img_100 :  78%|██████████████████████████████████████████████▊             | 39/50 [00:03<00:00, 20.85it/s]"
     ]
    },
    {
     "name": "stderr",
     "output_type": "stream",
     "text": [
      "\r\n",
      "FID sampled_img_100 : 100%|████████████████████████████████████████████████████████████| 50/50 [00:03<00:00, 15.31it/s]"
     ]
    },
    {
     "name": "stderr",
     "output_type": "stream",
     "text": [
      "\n"
     ]
    },
    {
     "name": "stdout",
     "output_type": "stream",
     "text": [
      "FID score: 155.1173252056065\n",
      "CPU times: user 57 s, sys: 7.68 s, total: 1min 4s\n",
      "Wall time: 6.18 s\n"
     ]
    }
   ],
   "source": [
    "%%time\n",
    "# Save images\n",
    "\n",
    "from pathlib import Path\n",
    "import numpy as np\n",
    "from cleanfid import fid\n",
    "\n",
    "gen_path = Path(\"results/sampled_img_100\")\n",
    "gen_path.mkdir(exist_ok=True)\n",
    "\n",
    "for i, img in enumerate(images[:100]):\n",
    "    img_np = np.array(img)\n",
    "    np.save(gen_path / f\"{i}.npy\", img_np)\n",
    "\n",
    "score = fid.compute_fid(\n",
    "            str(gen_path),\n",
    "            dataset_name=\"cifar10\",\n",
    "            dataset_res=32,\n",
    "            device=\"cuda\",\n",
    "            mode=\"clean\",\n",
    "            batch_size=2,\n",
    "        )\n",
    "\n",
    "print(\"FID score:\", score)  # 156.41708381872482"
   ]
  },
  {
   "cell_type": "markdown",
   "id": "42ec417f",
   "metadata": {
    "papermill": {
     "duration": 0.005187,
     "end_time": "2024-12-16T22:14:44.942578",
     "exception": false,
     "start_time": "2024-12-16T22:14:44.937391",
     "status": "completed"
    },
    "tags": []
   },
   "source": [
    "### First 1000 images\n",
    "\n"
   ]
  },
  {
   "cell_type": "code",
   "execution_count": 7,
   "id": "c2b04fa6",
   "metadata": {
    "execution": {
     "iopub.execute_input": "2024-12-16T22:14:44.959488Z",
     "iopub.status.busy": "2024-12-16T22:14:44.959133Z",
     "iopub.status.idle": "2024-12-16T22:14:45.129069Z",
     "shell.execute_reply": "2024-12-16T22:14:45.128642Z"
    },
    "papermill": {
     "duration": 0.181906,
     "end_time": "2024-12-16T22:14:45.130190",
     "exception": false,
     "start_time": "2024-12-16T22:14:44.948284",
     "status": "completed"
    },
    "tags": []
   },
   "outputs": [
    {
     "name": "stdout",
     "output_type": "stream",
     "text": [
      "CPU times: user 341 ms, sys: 905 ms, total: 1.25 s\n",
      "Wall time: 166 ms\n"
     ]
    }
   ],
   "source": [
    "%%time\n",
    "# Save images\n",
    "\n",
    "gen_path = Path(\"results/sampled_img_1000\")\n",
    "gen_path.mkdir(exist_ok=True)\n",
    "\n",
    "for i, img in enumerate(images[:1000]):\n",
    "    img_np = np.array(img)\n",
    "    np.save(gen_path / f\"{i}.npy\", img_np)"
   ]
  },
  {
   "cell_type": "code",
   "execution_count": 8,
   "id": "0e489d84",
   "metadata": {
    "execution": {
     "iopub.execute_input": "2024-12-16T22:14:45.141449Z",
     "iopub.status.busy": "2024-12-16T22:14:45.141188Z",
     "iopub.status.idle": "2024-12-16T22:14:53.066892Z",
     "shell.execute_reply": "2024-12-16T22:14:53.066400Z"
    },
    "papermill": {
     "duration": 7.932191,
     "end_time": "2024-12-16T22:14:53.067735",
     "exception": false,
     "start_time": "2024-12-16T22:14:45.135544",
     "status": "completed"
    },
    "tags": []
   },
   "outputs": [
    {
     "name": "stdout",
     "output_type": "stream",
     "text": [
      "FID score: 47.59607117774948\n",
      "CPU times: user 50.7 s, sys: 7.36 s, total: 58.1 s\n",
      "Wall time: 7.92 s\n"
     ]
    }
   ],
   "source": [
    "%%time\n",
    "from cleanfid import fid\n",
    "\n",
    "score = fid.compute_fid(\n",
    "            str(gen_path),\n",
    "            dataset_name=\"cifar10\",\n",
    "            dataset_res=32,\n",
    "            device=\"cuda\",\n",
    "            mode=\"clean\",\n",
    "            batch_size=2,\n",
    "            verbose=False,\n",
    "        )\n",
    "\n",
    "print(\"FID score:\", score)  # 44.02850054643022"
   ]
  },
  {
   "cell_type": "markdown",
   "id": "14b6cd74",
   "metadata": {
    "papermill": {
     "duration": 0.0052,
     "end_time": "2024-12-16T22:14:53.078326",
     "exception": false,
     "start_time": "2024-12-16T22:14:53.073126",
     "status": "completed"
    },
    "tags": []
   },
   "source": [
    "### 50k images"
   ]
  },
  {
   "cell_type": "code",
   "execution_count": 9,
   "id": "03274106",
   "metadata": {
    "execution": {
     "iopub.execute_input": "2024-12-16T22:14:53.092103Z",
     "iopub.status.busy": "2024-12-16T22:14:53.091653Z",
     "iopub.status.idle": "2024-12-17T10:51:25.319743Z",
     "shell.execute_reply": "2024-12-17T10:51:25.319319Z"
    },
    "papermill": {
     "duration": 45392.242846,
     "end_time": "2024-12-17T10:51:25.326204",
     "exception": false,
     "start_time": "2024-12-16T22:14:53.083358",
     "status": "completed"
    },
    "tags": []
   },
   "outputs": [
    {
     "data": {
      "application/vnd.jupyter.widget-view+json": {
       "model_id": "b54d087157da46d59098d00863ca2cb8",
       "version_major": 2,
       "version_minor": 0
      },
      "text/plain": [
       "  0%|          | 0/490 [00:00<?, ?it/s]"
      ]
     },
     "metadata": {},
     "output_type": "display_data"
    },
    {
     "name": "stdout",
     "output_type": "stream",
     "text": [
      "CPU times: user 12h 36min 39s, sys: 6.73 s, total: 12h 36min 45s\n",
      "Wall time: 12h 36min 32s\n"
     ]
    }
   ],
   "source": [
    "%%time\n",
    "for _ in tqdm(range(490)):\n",
    "    images += [i for i in ddpm(batch_size=100).images]"
   ]
  },
  {
   "cell_type": "code",
   "execution_count": 10,
   "id": "85979f5b",
   "metadata": {
    "execution": {
     "iopub.execute_input": "2024-12-17T10:51:25.337689Z",
     "iopub.status.busy": "2024-12-17T10:51:25.337273Z",
     "iopub.status.idle": "2024-12-17T10:51:29.773768Z",
     "shell.execute_reply": "2024-12-17T10:51:29.772869Z"
    },
    "papermill": {
     "duration": 4.44352,
     "end_time": "2024-12-17T10:51:29.775068",
     "exception": false,
     "start_time": "2024-12-17T10:51:25.331548",
     "status": "completed"
    },
    "tags": []
   },
   "outputs": [],
   "source": [
    "gen_path = Path(\"results/sampled_img_50k\")\n",
    "gen_path.mkdir(exist_ok=True)\n",
    "\n",
    "for i, img in enumerate(images[:50000]):\n",
    "    img_np = np.array(img)\n",
    "    np.save(gen_path / f\"{i}.npy\", img_np)"
   ]
  },
  {
   "cell_type": "code",
   "execution_count": 11,
   "id": "070a3221",
   "metadata": {
    "execution": {
     "iopub.execute_input": "2024-12-17T10:51:29.786922Z",
     "iopub.status.busy": "2024-12-17T10:51:29.786592Z",
     "iopub.status.idle": "2024-12-17T10:53:55.823402Z",
     "shell.execute_reply": "2024-12-17T10:53:55.822948Z"
    },
    "papermill": {
     "duration": 146.048584,
     "end_time": "2024-12-17T10:53:55.829200",
     "exception": false,
     "start_time": "2024-12-17T10:51:29.780616",
     "status": "completed"
    },
    "tags": []
   },
   "outputs": [
    {
     "name": "stdout",
     "output_type": "stream",
     "text": [
      "CPU times: user 2min 53s, sys: 18.6 s, total: 3min 11s\n",
      "Wall time: 2min 26s\n"
     ]
    }
   ],
   "source": [
    "%%time\n",
    "score = fid.compute_fid(\n",
    "            str(gen_path),\n",
    "            dataset_name=\"cifar10\",\n",
    "            dataset_res=32,\n",
    "            device=\"cuda\",\n",
    "            mode=\"clean\",\n",
    "            batch_size=2,\n",
    "            verbose=False,\n",
    "        )"
   ]
  },
  {
   "cell_type": "code",
   "execution_count": 12,
   "id": "4a73b16a",
   "metadata": {
    "execution": {
     "iopub.execute_input": "2024-12-17T10:53:55.840956Z",
     "iopub.status.busy": "2024-12-17T10:53:55.840572Z",
     "iopub.status.idle": "2024-12-17T10:53:55.843173Z",
     "shell.execute_reply": "2024-12-17T10:53:55.842802Z"
    },
    "papermill": {
     "duration": 0.010037,
     "end_time": "2024-12-17T10:53:55.844672",
     "exception": false,
     "start_time": "2024-12-17T10:53:55.834635",
     "status": "completed"
    },
    "tags": []
   },
   "outputs": [
    {
     "name": "stdout",
     "output_type": "stream",
     "text": [
      "FID score: 14.702197781209179\n"
     ]
    }
   ],
   "source": [
    "print(\"FID score:\", score)"
   ]
  },
  {
   "cell_type": "markdown",
   "id": "d19fcfa3",
   "metadata": {},
   "source": [
    "As you can see, FID score is sensitive to the sample size. From 100 to 1000 and then to 50k sampled images, we see the FID score decreases from 150 to about 50 and then to roughly 10. The recommended sample size is 50k, however, it takes a long time to sample."
   ]
  }
 ],
 "metadata": {
  "kernelspec": {
   "display_name": "base",
   "language": "python",
   "name": "python3"
  },
  "language_info": {
   "codemirror_mode": {
    "name": "ipython",
    "version": 3
   },
   "file_extension": ".py",
   "mimetype": "text/x-python",
   "name": "python",
   "nbconvert_exporter": "python",
   "pygments_lexer": "ipython3",
   "version": "3.11.5"
  },
  "papermill": {
   "default_parameters": {},
   "duration": 46395.872564,
   "end_time": "2024-12-17T10:53:58.277022",
   "environment_variables": {},
   "exception": null,
   "input_path": "3_1_fid.ipynb",
   "output_path": "3_1_fid.ipynb",
   "parameters": {},
   "start_time": "2024-12-16T22:00:42.404458",
   "version": "2.6.0"
  },
  "widgets": {
   "application/vnd.jupyter.widget-state+json": {
    "state": {
     "02ea7619b25449eebaef5e619c36d7ab": {
      "model_module": "@jupyter-widgets/controls",
      "model_module_version": "2.0.0",
      "model_name": "ProgressStyleModel",
      "state": {
       "_model_module": "@jupyter-widgets/controls",
       "_model_module_version": "2.0.0",
       "_model_name": "ProgressStyleModel",
       "_view_count": null,
       "_view_module": "@jupyter-widgets/base",
       "_view_module_version": "2.0.0",
       "_view_name": "StyleView",
       "bar_color": null,
       "description_width": ""
      }
     },
     "03db07fe4ce8460bb86924c79b1fd82b": {
      "model_module": "@jupyter-widgets/controls",
      "model_module_version": "2.0.0",
      "model_name": "HTMLModel",
      "state": {
       "_dom_classes": [],
       "_model_module": "@jupyter-widgets/controls",
       "_model_module_version": "2.0.0",
       "_model_name": "HTMLModel",
       "_view_count": null,
       "_view_module": "@jupyter-widgets/controls",
       "_view_module_version": "2.0.0",
       "_view_name": "HTMLView",
       "description": "",
       "description_allow_html": false,
       "layout": "IPY_MODEL_50184e20507544648f02b05c40fa7d3f",
       "placeholder": "​",
       "style": "IPY_MODEL_493a0cd41fe942f1846bb717fe88333c",
       "tabbable": null,
       "tooltip": null,
       "value": " 2/2 [00:00&lt;00:00,  7.52it/s]"
      }
     },
     "12157d1740cd4fe5af1814c8bc505d80": {
      "model_module": "@jupyter-widgets/controls",
      "model_module_version": "2.0.0",
      "model_name": "FloatProgressModel",
      "state": {
       "_dom_classes": [],
       "_model_module": "@jupyter-widgets/controls",
       "_model_module_version": "2.0.0",
       "_model_name": "FloatProgressModel",
       "_view_count": null,
       "_view_module": "@jupyter-widgets/controls",
       "_view_module_version": "2.0.0",
       "_view_name": "ProgressView",
       "bar_style": "success",
       "description": "",
       "description_allow_html": false,
       "layout": "IPY_MODEL_65f4a73789ff4b80a35d17afd8bc6481",
       "max": 490,
       "min": 0,
       "orientation": "horizontal",
       "style": "IPY_MODEL_02ea7619b25449eebaef5e619c36d7ab",
       "tabbable": null,
       "tooltip": null,
       "value": 490
      }
     },
     "1811b0c11d894f98922833b91df58728": {
      "model_module": "@jupyter-widgets/controls",
      "model_module_version": "2.0.0",
      "model_name": "HTMLStyleModel",
      "state": {
       "_model_module": "@jupyter-widgets/controls",
       "_model_module_version": "2.0.0",
       "_model_name": "HTMLStyleModel",
       "_view_count": null,
       "_view_module": "@jupyter-widgets/base",
       "_view_module_version": "2.0.0",
       "_view_name": "StyleView",
       "background": null,
       "description_width": "",
       "font_size": null,
       "text_color": null
      }
     },
     "1a04e1d3f2214d0f8e2ded2c95140297": {
      "model_module": "@jupyter-widgets/controls",
      "model_module_version": "2.0.0",
      "model_name": "HTMLStyleModel",
      "state": {
       "_model_module": "@jupyter-widgets/controls",
       "_model_module_version": "2.0.0",
       "_model_name": "HTMLStyleModel",
       "_view_count": null,
       "_view_module": "@jupyter-widgets/base",
       "_view_module_version": "2.0.0",
       "_view_name": "StyleView",
       "background": null,
       "description_width": "",
       "font_size": null,
       "text_color": null
      }
     },
     "2616a3ebd8054789aa198c717d08ec31": {
      "model_module": "@jupyter-widgets/controls",
      "model_module_version": "2.0.0",
      "model_name": "FloatProgressModel",
      "state": {
       "_dom_classes": [],
       "_model_module": "@jupyter-widgets/controls",
       "_model_module_version": "2.0.0",
       "_model_name": "FloatProgressModel",
       "_view_count": null,
       "_view_module": "@jupyter-widgets/controls",
       "_view_module_version": "2.0.0",
       "_view_name": "ProgressView",
       "bar_style": "success",
       "description": "",
       "description_allow_html": false,
       "layout": "IPY_MODEL_3915f1e7649d4cdd9613bf56cd0ec734",
       "max": 9,
       "min": 0,
       "orientation": "horizontal",
       "style": "IPY_MODEL_699ef83a22c04989a035a652b9bcf8b8",
       "tabbable": null,
       "tooltip": null,
       "value": 9
      }
     },
     "2ab378f55c6d470b9ec432acb3971ff7": {
      "model_module": "@jupyter-widgets/controls",
      "model_module_version": "2.0.0",
      "model_name": "HTMLModel",
      "state": {
       "_dom_classes": [],
       "_model_module": "@jupyter-widgets/controls",
       "_model_module_version": "2.0.0",
       "_model_name": "HTMLModel",
       "_view_count": null,
       "_view_module": "@jupyter-widgets/controls",
       "_view_module_version": "2.0.0",
       "_view_name": "HTMLView",
       "description": "",
       "description_allow_html": false,
       "layout": "IPY_MODEL_ce5aa6eb673d424ba9e6302115ecca04",
       "placeholder": "​",
       "style": "IPY_MODEL_499817d540ec4721a073f05b661683e1",
       "tabbable": null,
       "tooltip": null,
       "value": " 490/490 [12:36:32&lt;00:00, 92.61s/it]"
      }
     },
     "3915f1e7649d4cdd9613bf56cd0ec734": {
      "model_module": "@jupyter-widgets/base",
      "model_module_version": "2.0.0",
      "model_name": "LayoutModel",
      "state": {
       "_model_module": "@jupyter-widgets/base",
       "_model_module_version": "2.0.0",
       "_model_name": "LayoutModel",
       "_view_count": null,
       "_view_module": "@jupyter-widgets/base",
       "_view_module_version": "2.0.0",
       "_view_name": "LayoutView",
       "align_content": null,
       "align_items": null,
       "align_self": null,
       "border_bottom": null,
       "border_left": null,
       "border_right": null,
       "border_top": null,
       "bottom": null,
       "display": null,
       "flex": null,
       "flex_flow": null,
       "grid_area": null,
       "grid_auto_columns": null,
       "grid_auto_flow": null,
       "grid_auto_rows": null,
       "grid_column": null,
       "grid_gap": null,
       "grid_row": null,
       "grid_template_areas": null,
       "grid_template_columns": null,
       "grid_template_rows": null,
       "height": null,
       "justify_content": null,
       "justify_items": null,
       "left": null,
       "margin": null,
       "max_height": null,
       "max_width": null,
       "min_height": null,
       "min_width": null,
       "object_fit": null,
       "object_position": null,
       "order": null,
       "overflow": null,
       "padding": null,
       "right": null,
       "top": null,
       "visibility": null,
       "width": null
      }
     },
     "3ce95f2e3dfc41b38b26ddcac44f6bfe": {
      "model_module": "@jupyter-widgets/base",
      "model_module_version": "2.0.0",
      "model_name": "LayoutModel",
      "state": {
       "_model_module": "@jupyter-widgets/base",
       "_model_module_version": "2.0.0",
       "_model_name": "LayoutModel",
       "_view_count": null,
       "_view_module": "@jupyter-widgets/base",
       "_view_module_version": "2.0.0",
       "_view_name": "LayoutView",
       "align_content": null,
       "align_items": null,
       "align_self": null,
       "border_bottom": null,
       "border_left": null,
       "border_right": null,
       "border_top": null,
       "bottom": null,
       "display": null,
       "flex": null,
       "flex_flow": null,
       "grid_area": null,
       "grid_auto_columns": null,
       "grid_auto_flow": null,
       "grid_auto_rows": null,
       "grid_column": null,
       "grid_gap": null,
       "grid_row": null,
       "grid_template_areas": null,
       "grid_template_columns": null,
       "grid_template_rows": null,
       "height": null,
       "justify_content": null,
       "justify_items": null,
       "left": null,
       "margin": null,
       "max_height": null,
       "max_width": null,
       "min_height": null,
       "min_width": null,
       "object_fit": null,
       "object_position": null,
       "order": null,
       "overflow": null,
       "padding": null,
       "right": null,
       "top": null,
       "visibility": null,
       "width": null
      }
     },
     "493a0cd41fe942f1846bb717fe88333c": {
      "model_module": "@jupyter-widgets/controls",
      "model_module_version": "2.0.0",
      "model_name": "HTMLStyleModel",
      "state": {
       "_model_module": "@jupyter-widgets/controls",
       "_model_module_version": "2.0.0",
       "_model_name": "HTMLStyleModel",
       "_view_count": null,
       "_view_module": "@jupyter-widgets/base",
       "_view_module_version": "2.0.0",
       "_view_name": "StyleView",
       "background": null,
       "description_width": "",
       "font_size": null,
       "text_color": null
      }
     },
     "499817d540ec4721a073f05b661683e1": {
      "model_module": "@jupyter-widgets/controls",
      "model_module_version": "2.0.0",
      "model_name": "HTMLStyleModel",
      "state": {
       "_model_module": "@jupyter-widgets/controls",
       "_model_module_version": "2.0.0",
       "_model_name": "HTMLStyleModel",
       "_view_count": null,
       "_view_module": "@jupyter-widgets/base",
       "_view_module_version": "2.0.0",
       "_view_name": "StyleView",
       "background": null,
       "description_width": "",
       "font_size": null,
       "text_color": null
      }
     },
     "50184e20507544648f02b05c40fa7d3f": {
      "model_module": "@jupyter-widgets/base",
      "model_module_version": "2.0.0",
      "model_name": "LayoutModel",
      "state": {
       "_model_module": "@jupyter-widgets/base",
       "_model_module_version": "2.0.0",
       "_model_name": "LayoutModel",
       "_view_count": null,
       "_view_module": "@jupyter-widgets/base",
       "_view_module_version": "2.0.0",
       "_view_name": "LayoutView",
       "align_content": null,
       "align_items": null,
       "align_self": null,
       "border_bottom": null,
       "border_left": null,
       "border_right": null,
       "border_top": null,
       "bottom": null,
       "display": null,
       "flex": null,
       "flex_flow": null,
       "grid_area": null,
       "grid_auto_columns": null,
       "grid_auto_flow": null,
       "grid_auto_rows": null,
       "grid_column": null,
       "grid_gap": null,
       "grid_row": null,
       "grid_template_areas": null,
       "grid_template_columns": null,
       "grid_template_rows": null,
       "height": null,
       "justify_content": null,
       "justify_items": null,
       "left": null,
       "margin": null,
       "max_height": null,
       "max_width": null,
       "min_height": null,
       "min_width": null,
       "object_fit": null,
       "object_position": null,
       "order": null,
       "overflow": null,
       "padding": null,
       "right": null,
       "top": null,
       "visibility": null,
       "width": null
      }
     },
     "65f4a73789ff4b80a35d17afd8bc6481": {
      "model_module": "@jupyter-widgets/base",
      "model_module_version": "2.0.0",
      "model_name": "LayoutModel",
      "state": {
       "_model_module": "@jupyter-widgets/base",
       "_model_module_version": "2.0.0",
       "_model_name": "LayoutModel",
       "_view_count": null,
       "_view_module": "@jupyter-widgets/base",
       "_view_module_version": "2.0.0",
       "_view_name": "LayoutView",
       "align_content": null,
       "align_items": null,
       "align_self": null,
       "border_bottom": null,
       "border_left": null,
       "border_right": null,
       "border_top": null,
       "bottom": null,
       "display": null,
       "flex": null,
       "flex_flow": null,
       "grid_area": null,
       "grid_auto_columns": null,
       "grid_auto_flow": null,
       "grid_auto_rows": null,
       "grid_column": null,
       "grid_gap": null,
       "grid_row": null,
       "grid_template_areas": null,
       "grid_template_columns": null,
       "grid_template_rows": null,
       "height": null,
       "justify_content": null,
       "justify_items": null,
       "left": null,
       "margin": null,
       "max_height": null,
       "max_width": null,
       "min_height": null,
       "min_width": null,
       "object_fit": null,
       "object_position": null,
       "order": null,
       "overflow": null,
       "padding": null,
       "right": null,
       "top": null,
       "visibility": null,
       "width": null
      }
     },
     "677e78339e20407498332224d1dcd4b4": {
      "model_module": "@jupyter-widgets/controls",
      "model_module_version": "2.0.0",
      "model_name": "HBoxModel",
      "state": {
       "_dom_classes": [],
       "_model_module": "@jupyter-widgets/controls",
       "_model_module_version": "2.0.0",
       "_model_name": "HBoxModel",
       "_view_count": null,
       "_view_module": "@jupyter-widgets/controls",
       "_view_module_version": "2.0.0",
       "_view_name": "HBoxView",
       "box_style": "",
       "children": [
        "IPY_MODEL_9c6e8726cf08402893d454669eaaa334",
        "IPY_MODEL_9b76136170a941dd892ae8b702b642d0",
        "IPY_MODEL_03db07fe4ce8460bb86924c79b1fd82b"
       ],
       "layout": "IPY_MODEL_82c2c61734014f71a70b82de7b135b0b",
       "tabbable": null,
       "tooltip": null
      }
     },
     "699ef83a22c04989a035a652b9bcf8b8": {
      "model_module": "@jupyter-widgets/controls",
      "model_module_version": "2.0.0",
      "model_name": "ProgressStyleModel",
      "state": {
       "_model_module": "@jupyter-widgets/controls",
       "_model_module_version": "2.0.0",
       "_model_name": "ProgressStyleModel",
       "_view_count": null,
       "_view_module": "@jupyter-widgets/base",
       "_view_module_version": "2.0.0",
       "_view_name": "StyleView",
       "bar_color": null,
       "description_width": ""
      }
     },
     "72a7b71880994d7da2c8b0528efaaf00": {
      "model_module": "@jupyter-widgets/base",
      "model_module_version": "2.0.0",
      "model_name": "LayoutModel",
      "state": {
       "_model_module": "@jupyter-widgets/base",
       "_model_module_version": "2.0.0",
       "_model_name": "LayoutModel",
       "_view_count": null,
       "_view_module": "@jupyter-widgets/base",
       "_view_module_version": "2.0.0",
       "_view_name": "LayoutView",
       "align_content": null,
       "align_items": null,
       "align_self": null,
       "border_bottom": null,
       "border_left": null,
       "border_right": null,
       "border_top": null,
       "bottom": null,
       "display": null,
       "flex": null,
       "flex_flow": null,
       "grid_area": null,
       "grid_auto_columns": null,
       "grid_auto_flow": null,
       "grid_auto_rows": null,
       "grid_column": null,
       "grid_gap": null,
       "grid_row": null,
       "grid_template_areas": null,
       "grid_template_columns": null,
       "grid_template_rows": null,
       "height": null,
       "justify_content": null,
       "justify_items": null,
       "left": null,
       "margin": null,
       "max_height": null,
       "max_width": null,
       "min_height": null,
       "min_width": null,
       "object_fit": null,
       "object_position": null,
       "order": null,
       "overflow": null,
       "padding": null,
       "right": null,
       "top": null,
       "visibility": null,
       "width": null
      }
     },
     "749fec4a11064f3e87970f4a8fcf2081": {
      "model_module": "@jupyter-widgets/base",
      "model_module_version": "2.0.0",
      "model_name": "LayoutModel",
      "state": {
       "_model_module": "@jupyter-widgets/base",
       "_model_module_version": "2.0.0",
       "_model_name": "LayoutModel",
       "_view_count": null,
       "_view_module": "@jupyter-widgets/base",
       "_view_module_version": "2.0.0",
       "_view_name": "LayoutView",
       "align_content": null,
       "align_items": null,
       "align_self": null,
       "border_bottom": null,
       "border_left": null,
       "border_right": null,
       "border_top": null,
       "bottom": null,
       "display": null,
       "flex": null,
       "flex_flow": null,
       "grid_area": null,
       "grid_auto_columns": null,
       "grid_auto_flow": null,
       "grid_auto_rows": null,
       "grid_column": null,
       "grid_gap": null,
       "grid_row": null,
       "grid_template_areas": null,
       "grid_template_columns": null,
       "grid_template_rows": null,
       "height": null,
       "justify_content": null,
       "justify_items": null,
       "left": null,
       "margin": null,
       "max_height": null,
       "max_width": null,
       "min_height": null,
       "min_width": null,
       "object_fit": null,
       "object_position": null,
       "order": null,
       "overflow": null,
       "padding": null,
       "right": null,
       "top": null,
       "visibility": null,
       "width": null
      }
     },
     "7a3114916ef8400e88c4d816be67ab6b": {
      "model_module": "@jupyter-widgets/controls",
      "model_module_version": "2.0.0",
      "model_name": "HTMLStyleModel",
      "state": {
       "_model_module": "@jupyter-widgets/controls",
       "_model_module_version": "2.0.0",
       "_model_name": "HTMLStyleModel",
       "_view_count": null,
       "_view_module": "@jupyter-widgets/base",
       "_view_module_version": "2.0.0",
       "_view_name": "StyleView",
       "background": null,
       "description_width": "",
       "font_size": null,
       "text_color": null
      }
     },
     "813aa17c9a8d4d4783a7f4e15be8a871": {
      "model_module": "@jupyter-widgets/controls",
      "model_module_version": "2.0.0",
      "model_name": "HTMLModel",
      "state": {
       "_dom_classes": [],
       "_model_module": "@jupyter-widgets/controls",
       "_model_module_version": "2.0.0",
       "_model_name": "HTMLModel",
       "_view_count": null,
       "_view_module": "@jupyter-widgets/controls",
       "_view_module_version": "2.0.0",
       "_view_name": "HTMLView",
       "description": "",
       "description_allow_html": false,
       "layout": "IPY_MODEL_908db8357555480aaa36cdd62802ce3b",
       "placeholder": "​",
       "style": "IPY_MODEL_7a3114916ef8400e88c4d816be67ab6b",
       "tabbable": null,
       "tooltip": null,
       "value": "100%"
      }
     },
     "829338c56f7649dc8e5710ab0ac539f8": {
      "model_module": "@jupyter-widgets/base",
      "model_module_version": "2.0.0",
      "model_name": "LayoutModel",
      "state": {
       "_model_module": "@jupyter-widgets/base",
       "_model_module_version": "2.0.0",
       "_model_name": "LayoutModel",
       "_view_count": null,
       "_view_module": "@jupyter-widgets/base",
       "_view_module_version": "2.0.0",
       "_view_name": "LayoutView",
       "align_content": null,
       "align_items": null,
       "align_self": null,
       "border_bottom": null,
       "border_left": null,
       "border_right": null,
       "border_top": null,
       "bottom": null,
       "display": null,
       "flex": null,
       "flex_flow": null,
       "grid_area": null,
       "grid_auto_columns": null,
       "grid_auto_flow": null,
       "grid_auto_rows": null,
       "grid_column": null,
       "grid_gap": null,
       "grid_row": null,
       "grid_template_areas": null,
       "grid_template_columns": null,
       "grid_template_rows": null,
       "height": null,
       "justify_content": null,
       "justify_items": null,
       "left": null,
       "margin": null,
       "max_height": null,
       "max_width": null,
       "min_height": null,
       "min_width": null,
       "object_fit": null,
       "object_position": null,
       "order": null,
       "overflow": null,
       "padding": null,
       "right": null,
       "top": null,
       "visibility": null,
       "width": null
      }
     },
     "82c2c61734014f71a70b82de7b135b0b": {
      "model_module": "@jupyter-widgets/base",
      "model_module_version": "2.0.0",
      "model_name": "LayoutModel",
      "state": {
       "_model_module": "@jupyter-widgets/base",
       "_model_module_version": "2.0.0",
       "_model_name": "LayoutModel",
       "_view_count": null,
       "_view_module": "@jupyter-widgets/base",
       "_view_module_version": "2.0.0",
       "_view_name": "LayoutView",
       "align_content": null,
       "align_items": null,
       "align_self": null,
       "border_bottom": null,
       "border_left": null,
       "border_right": null,
       "border_top": null,
       "bottom": null,
       "display": null,
       "flex": null,
       "flex_flow": null,
       "grid_area": null,
       "grid_auto_columns": null,
       "grid_auto_flow": null,
       "grid_auto_rows": null,
       "grid_column": null,
       "grid_gap": null,
       "grid_row": null,
       "grid_template_areas": null,
       "grid_template_columns": null,
       "grid_template_rows": null,
       "height": null,
       "justify_content": null,
       "justify_items": null,
       "left": null,
       "margin": null,
       "max_height": null,
       "max_width": null,
       "min_height": null,
       "min_width": null,
       "object_fit": null,
       "object_position": null,
       "order": null,
       "overflow": null,
       "padding": null,
       "right": null,
       "top": null,
       "visibility": null,
       "width": null
      }
     },
     "89d97a0e6a6046169e6ab26eae347560": {
      "model_module": "@jupyter-widgets/controls",
      "model_module_version": "2.0.0",
      "model_name": "HTMLStyleModel",
      "state": {
       "_model_module": "@jupyter-widgets/controls",
       "_model_module_version": "2.0.0",
       "_model_name": "HTMLStyleModel",
       "_view_count": null,
       "_view_module": "@jupyter-widgets/base",
       "_view_module_version": "2.0.0",
       "_view_name": "StyleView",
       "background": null,
       "description_width": "",
       "font_size": null,
       "text_color": null
      }
     },
     "908db8357555480aaa36cdd62802ce3b": {
      "model_module": "@jupyter-widgets/base",
      "model_module_version": "2.0.0",
      "model_name": "LayoutModel",
      "state": {
       "_model_module": "@jupyter-widgets/base",
       "_model_module_version": "2.0.0",
       "_model_name": "LayoutModel",
       "_view_count": null,
       "_view_module": "@jupyter-widgets/base",
       "_view_module_version": "2.0.0",
       "_view_name": "LayoutView",
       "align_content": null,
       "align_items": null,
       "align_self": null,
       "border_bottom": null,
       "border_left": null,
       "border_right": null,
       "border_top": null,
       "bottom": null,
       "display": null,
       "flex": null,
       "flex_flow": null,
       "grid_area": null,
       "grid_auto_columns": null,
       "grid_auto_flow": null,
       "grid_auto_rows": null,
       "grid_column": null,
       "grid_gap": null,
       "grid_row": null,
       "grid_template_areas": null,
       "grid_template_columns": null,
       "grid_template_rows": null,
       "height": null,
       "justify_content": null,
       "justify_items": null,
       "left": null,
       "margin": null,
       "max_height": null,
       "max_width": null,
       "min_height": null,
       "min_width": null,
       "object_fit": null,
       "object_position": null,
       "order": null,
       "overflow": null,
       "padding": null,
       "right": null,
       "top": null,
       "visibility": null,
       "width": null
      }
     },
     "93c37961bdba4b5cb1326ded6c84bc4a": {
      "model_module": "@jupyter-widgets/base",
      "model_module_version": "2.0.0",
      "model_name": "LayoutModel",
      "state": {
       "_model_module": "@jupyter-widgets/base",
       "_model_module_version": "2.0.0",
       "_model_name": "LayoutModel",
       "_view_count": null,
       "_view_module": "@jupyter-widgets/base",
       "_view_module_version": "2.0.0",
       "_view_name": "LayoutView",
       "align_content": null,
       "align_items": null,
       "align_self": null,
       "border_bottom": null,
       "border_left": null,
       "border_right": null,
       "border_top": null,
       "bottom": null,
       "display": null,
       "flex": null,
       "flex_flow": null,
       "grid_area": null,
       "grid_auto_columns": null,
       "grid_auto_flow": null,
       "grid_auto_rows": null,
       "grid_column": null,
       "grid_gap": null,
       "grid_row": null,
       "grid_template_areas": null,
       "grid_template_columns": null,
       "grid_template_rows": null,
       "height": null,
       "justify_content": null,
       "justify_items": null,
       "left": null,
       "margin": null,
       "max_height": null,
       "max_width": null,
       "min_height": null,
       "min_width": null,
       "object_fit": null,
       "object_position": null,
       "order": null,
       "overflow": null,
       "padding": null,
       "right": null,
       "top": null,
       "visibility": null,
       "width": null
      }
     },
     "9b76136170a941dd892ae8b702b642d0": {
      "model_module": "@jupyter-widgets/controls",
      "model_module_version": "2.0.0",
      "model_name": "FloatProgressModel",
      "state": {
       "_dom_classes": [],
       "_model_module": "@jupyter-widgets/controls",
       "_model_module_version": "2.0.0",
       "_model_name": "FloatProgressModel",
       "_view_count": null,
       "_view_module": "@jupyter-widgets/controls",
       "_view_module_version": "2.0.0",
       "_view_name": "ProgressView",
       "bar_style": "success",
       "description": "",
       "description_allow_html": false,
       "layout": "IPY_MODEL_3ce95f2e3dfc41b38b26ddcac44f6bfe",
       "max": 2,
       "min": 0,
       "orientation": "horizontal",
       "style": "IPY_MODEL_b70bfd5966e846d9964b7992833d35f1",
       "tabbable": null,
       "tooltip": null,
       "value": 2
      }
     },
     "9c6e8726cf08402893d454669eaaa334": {
      "model_module": "@jupyter-widgets/controls",
      "model_module_version": "2.0.0",
      "model_name": "HTMLModel",
      "state": {
       "_dom_classes": [],
       "_model_module": "@jupyter-widgets/controls",
       "_model_module_version": "2.0.0",
       "_model_name": "HTMLModel",
       "_view_count": null,
       "_view_module": "@jupyter-widgets/controls",
       "_view_module_version": "2.0.0",
       "_view_name": "HTMLView",
       "description": "",
       "description_allow_html": false,
       "layout": "IPY_MODEL_93c37961bdba4b5cb1326ded6c84bc4a",
       "placeholder": "​",
       "style": "IPY_MODEL_1a04e1d3f2214d0f8e2ded2c95140297",
       "tabbable": null,
       "tooltip": null,
       "value": "Loading pipeline components...: 100%"
      }
     },
     "a1458eb45b2f45568988a6601f706bb4": {
      "model_module": "@jupyter-widgets/controls",
      "model_module_version": "2.0.0",
      "model_name": "HTMLModel",
      "state": {
       "_dom_classes": [],
       "_model_module": "@jupyter-widgets/controls",
       "_model_module_version": "2.0.0",
       "_model_name": "HTMLModel",
       "_view_count": null,
       "_view_module": "@jupyter-widgets/controls",
       "_view_module_version": "2.0.0",
       "_view_name": "HTMLView",
       "description": "",
       "description_allow_html": false,
       "layout": "IPY_MODEL_72a7b71880994d7da2c8b0528efaaf00",
       "placeholder": "​",
       "style": "IPY_MODEL_89d97a0e6a6046169e6ab26eae347560",
       "tabbable": null,
       "tooltip": null,
       "value": " 9/9 [13:48&lt;00:00, 92.50s/it]"
      }
     },
     "b54d087157da46d59098d00863ca2cb8": {
      "model_module": "@jupyter-widgets/controls",
      "model_module_version": "2.0.0",
      "model_name": "HBoxModel",
      "state": {
       "_dom_classes": [],
       "_model_module": "@jupyter-widgets/controls",
       "_model_module_version": "2.0.0",
       "_model_name": "HBoxModel",
       "_view_count": null,
       "_view_module": "@jupyter-widgets/controls",
       "_view_module_version": "2.0.0",
       "_view_name": "HBoxView",
       "box_style": "",
       "children": [
        "IPY_MODEL_fe9d9d6a7c2f436b8139d2a78cda2072",
        "IPY_MODEL_12157d1740cd4fe5af1814c8bc505d80",
        "IPY_MODEL_2ab378f55c6d470b9ec432acb3971ff7"
       ],
       "layout": "IPY_MODEL_829338c56f7649dc8e5710ab0ac539f8",
       "tabbable": null,
       "tooltip": null
      }
     },
     "b70bfd5966e846d9964b7992833d35f1": {
      "model_module": "@jupyter-widgets/controls",
      "model_module_version": "2.0.0",
      "model_name": "ProgressStyleModel",
      "state": {
       "_model_module": "@jupyter-widgets/controls",
       "_model_module_version": "2.0.0",
       "_model_name": "ProgressStyleModel",
       "_view_count": null,
       "_view_module": "@jupyter-widgets/base",
       "_view_module_version": "2.0.0",
       "_view_name": "StyleView",
       "bar_color": null,
       "description_width": ""
      }
     },
     "c714a836b9a44cd196c4e5d128e81362": {
      "model_module": "@jupyter-widgets/base",
      "model_module_version": "2.0.0",
      "model_name": "LayoutModel",
      "state": {
       "_model_module": "@jupyter-widgets/base",
       "_model_module_version": "2.0.0",
       "_model_name": "LayoutModel",
       "_view_count": null,
       "_view_module": "@jupyter-widgets/base",
       "_view_module_version": "2.0.0",
       "_view_name": "LayoutView",
       "align_content": null,
       "align_items": null,
       "align_self": null,
       "border_bottom": null,
       "border_left": null,
       "border_right": null,
       "border_top": null,
       "bottom": null,
       "display": null,
       "flex": null,
       "flex_flow": null,
       "grid_area": null,
       "grid_auto_columns": null,
       "grid_auto_flow": null,
       "grid_auto_rows": null,
       "grid_column": null,
       "grid_gap": null,
       "grid_row": null,
       "grid_template_areas": null,
       "grid_template_columns": null,
       "grid_template_rows": null,
       "height": null,
       "justify_content": null,
       "justify_items": null,
       "left": null,
       "margin": null,
       "max_height": null,
       "max_width": null,
       "min_height": null,
       "min_width": null,
       "object_fit": null,
       "object_position": null,
       "order": null,
       "overflow": null,
       "padding": null,
       "right": null,
       "top": null,
       "visibility": null,
       "width": null
      }
     },
     "c98e51ea6bc44d31a8c4d98ecd5aaf60": {
      "model_module": "@jupyter-widgets/controls",
      "model_module_version": "2.0.0",
      "model_name": "HBoxModel",
      "state": {
       "_dom_classes": [],
       "_model_module": "@jupyter-widgets/controls",
       "_model_module_version": "2.0.0",
       "_model_name": "HBoxModel",
       "_view_count": null,
       "_view_module": "@jupyter-widgets/controls",
       "_view_module_version": "2.0.0",
       "_view_name": "HBoxView",
       "box_style": "",
       "children": [
        "IPY_MODEL_813aa17c9a8d4d4783a7f4e15be8a871",
        "IPY_MODEL_2616a3ebd8054789aa198c717d08ec31",
        "IPY_MODEL_a1458eb45b2f45568988a6601f706bb4"
       ],
       "layout": "IPY_MODEL_749fec4a11064f3e87970f4a8fcf2081",
       "tabbable": null,
       "tooltip": null
      }
     },
     "ce5aa6eb673d424ba9e6302115ecca04": {
      "model_module": "@jupyter-widgets/base",
      "model_module_version": "2.0.0",
      "model_name": "LayoutModel",
      "state": {
       "_model_module": "@jupyter-widgets/base",
       "_model_module_version": "2.0.0",
       "_model_name": "LayoutModel",
       "_view_count": null,
       "_view_module": "@jupyter-widgets/base",
       "_view_module_version": "2.0.0",
       "_view_name": "LayoutView",
       "align_content": null,
       "align_items": null,
       "align_self": null,
       "border_bottom": null,
       "border_left": null,
       "border_right": null,
       "border_top": null,
       "bottom": null,
       "display": null,
       "flex": null,
       "flex_flow": null,
       "grid_area": null,
       "grid_auto_columns": null,
       "grid_auto_flow": null,
       "grid_auto_rows": null,
       "grid_column": null,
       "grid_gap": null,
       "grid_row": null,
       "grid_template_areas": null,
       "grid_template_columns": null,
       "grid_template_rows": null,
       "height": null,
       "justify_content": null,
       "justify_items": null,
       "left": null,
       "margin": null,
       "max_height": null,
       "max_width": null,
       "min_height": null,
       "min_width": null,
       "object_fit": null,
       "object_position": null,
       "order": null,
       "overflow": null,
       "padding": null,
       "right": null,
       "top": null,
       "visibility": null,
       "width": null
      }
     },
     "fe9d9d6a7c2f436b8139d2a78cda2072": {
      "model_module": "@jupyter-widgets/controls",
      "model_module_version": "2.0.0",
      "model_name": "HTMLModel",
      "state": {
       "_dom_classes": [],
       "_model_module": "@jupyter-widgets/controls",
       "_model_module_version": "2.0.0",
       "_model_name": "HTMLModel",
       "_view_count": null,
       "_view_module": "@jupyter-widgets/controls",
       "_view_module_version": "2.0.0",
       "_view_name": "HTMLView",
       "description": "",
       "description_allow_html": false,
       "layout": "IPY_MODEL_c714a836b9a44cd196c4e5d128e81362",
       "placeholder": "​",
       "style": "IPY_MODEL_1811b0c11d894f98922833b91df58728",
       "tabbable": null,
       "tooltip": null,
       "value": "100%"
      }
     }
    },
    "version_major": 2,
    "version_minor": 0
   }
  }
 },
 "nbformat": 4,
 "nbformat_minor": 5
}
