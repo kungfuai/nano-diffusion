{
 "cells": [
  {
   "cell_type": "code",
   "execution_count": 2,
   "metadata": {},
   "outputs": [],
   "source": [
    "import sys\n",
    "\n",
    "sys.path.append(\"..\")\n",
    "\n",
    "from src.train import denoising_step_0, denoising_step_1, create_noise_schedule\n"
   ]
  },
  {
   "cell_type": "code",
   "execution_count": 5,
   "metadata": {},
   "outputs": [
    {
     "name": "stdout",
     "output_type": "stream",
     "text": [
      "MSE difference: 2.4966038e-10\n",
      "x_0_0: [-1.3758283  -1.7300689   0.56866246  0.7879243   0.6137402  -1.5527974\n",
      " -0.3410042   1.8221784   0.75911075 -0.6098999 ]\n",
      "x_0_1: [-1.3758079  -1.7300419   0.5686541   0.7879141   0.61373085 -1.552776\n",
      " -0.34100035  1.822156    0.7590997  -0.60988957]\n"
     ]
    }
   ],
   "source": [
    "# compare the two denoising step functions\n",
    "import torch\n",
    "import numpy as np\n",
    "\n",
    "batch_size = 8\n",
    "x_t = torch.randn(batch_size, 2)\n",
    "\n",
    "class DenoisingModel(torch.nn.Module):\n",
    "    def __init__(self):\n",
    "        super().__init__()\n",
    "        self.linear = torch.nn.Linear(2, 2)\n",
    "\n",
    "    def forward(self, t, x):\n",
    "        return self.linear(x)\n",
    "\n",
    "denoising_model = DenoisingModel()\n",
    "denoising_model.eval()\n",
    "noise_schedule = create_noise_schedule(n_T=1000, device=\"cpu\")\n",
    "\n",
    "t = 10\n",
    "# seed the noise\n",
    "torch.manual_seed(0)\n",
    "x_0_0 = denoising_step_0(denoising_model, x_t=x_t, t=t, noise_schedule=noise_schedule, clip_sample=False)\n",
    "\n",
    "torch.manual_seed(0)\n",
    "x_0_1 = denoising_step_1(denoising_model, x_t=x_t, t=t, noise_schedule=noise_schedule, clip_sample=False)\n",
    "\n",
    "# compare the two, mean squared error\n",
    "print(\"MSE difference:\", np.mean((x_0_0.cpu().numpy() - x_0_1.cpu().numpy()) ** 2))\n",
    "# print the first 20 numbers\n",
    "print(\"x_0_0:\", x_0_0.cpu().numpy().flatten()[:10])\n",
    "print(\"x_0_1:\", x_0_1.cpu().numpy().flatten()[:10])\n"
   ]
  }
 ],
 "metadata": {
  "kernelspec": {
   "display_name": "base",
   "language": "python",
   "name": "python3"
  },
  "language_info": {
   "codemirror_mode": {
    "name": "ipython",
    "version": 3
   },
   "file_extension": ".py",
   "mimetype": "text/x-python",
   "name": "python",
   "nbconvert_exporter": "python",
   "pygments_lexer": "ipython3",
   "version": "3.11.5"
  }
 },
 "nbformat": 4,
 "nbformat_minor": 2
}
