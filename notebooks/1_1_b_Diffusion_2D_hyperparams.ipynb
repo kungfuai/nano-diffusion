{
 "cells": [
  {
   "cell_type": "markdown",
   "metadata": {},
   "source": [
    "# Model Hyperparameter Comparison"
   ]
  },
  {
   "cell_type": "markdown",
   "metadata": {},
   "source": [
    "## Define the grid of hyperparameters"
   ]
  },
  {
   "cell_type": "code",
   "execution_count": 4,
   "metadata": {},
   "outputs": [
    {
     "name": "stdout",
     "output_type": "stream",
     "text": [
      "Number of model configs: 36\n"
     ]
    }
   ],
   "source": [
    "from lib_1_1.eval import chamfer_distance\n",
    "from lib_1_1.model import Model1, Model2, Model3\n",
    "from lib_1_1.training_loop  import train\n",
    "from lib_1_1.data import load_data\n",
    "from lib_1_1.config import TrainingConfig\n",
    "from lib_1_1.diffusion import generate_samples_by_denoising, create_noise_schedule\n",
    "from dataclasses import dataclass\n",
    "import torch\n",
    "import torch.optim as optim\n",
    "import numpy as np\n",
    "import matplotlib.pyplot as plt\n",
    "\n",
    "\n",
    "@dataclass\n",
    "class ModelConfig:\n",
    "    model: str\n",
    "    hidden_features: list[int]\n",
    "    train_steps: int\n",
    "\n",
    "models = [\"model1\", \"model2\", \"model3\"]\n",
    "layers = [[128], [256, 256], [512, 512], [256, 256, 256, 256, 256]]\n",
    "train_steps = [1000, 5000, 10000]\n",
    "\n",
    "model_configs = [\n",
    "    ModelConfig(model=model, hidden_features=layer, train_steps=num_timestep)\n",
    "    for model in models for layer in layers for num_timestep in train_steps\n",
    "]\n",
    "print(f\"Number of model configs: {len(model_configs)}\")"
   ]
  },
  {
   "cell_type": "markdown",
   "metadata": {},
   "source": [
    "## Run model training experiments\n",
    "\n",
    "This can take about 10 minutes to run."
   ]
  },
  {
   "cell_type": "code",
   "execution_count": 10,
   "metadata": {},
   "outputs": [
    {
     "name": "stdout",
     "output_type": "stream",
     "text": [
      "model1, Layers: [128], Train Steps: 1000\n",
      "model params: 770\n",
      "Training on device: cuda\n"
     ]
    },
    {
     "data": {
      "application/vnd.jupyter.widget-view+json": {
       "model_id": "6b72ec35ba7849c49ed8fda15c5c65b2",
       "version_major": 2,
       "version_minor": 0
      },
      "text/plain": [
       "  0%|          | 0/3125 [00:00<?, ?it/s]"
      ]
     },
     "metadata": {},
     "output_type": "display_data"
    },
    {
     "name": "stdout",
     "output_type": "stream",
     "text": [
      "Reached the max training steps: 1000\n",
      "loss: 0.4509263038635254\n"
     ]
    },
    {
     "name": "stderr",
     "output_type": "stream",
     "text": [
      "100%|██████████| 1000/1000 [00:00<00:00, 1025.70it/s, std=50.1]\n"
     ]
    },
    {
     "name": "stdout",
     "output_type": "stream",
     "text": [
      "Chamfer Distance: 40.83210172000426\n",
      "model1, Layers: [128], Train Steps: 5000\n",
      "model params: 770\n",
      "Training on device: cuda\n"
     ]
    },
    {
     "data": {
      "application/vnd.jupyter.widget-view+json": {
       "model_id": "bd60efc1b6c54d5db4ef2328ad4399f0",
       "version_major": 2,
       "version_minor": 0
      },
      "text/plain": [
       "  0%|          | 0/3125 [00:00<?, ?it/s]"
      ]
     },
     "metadata": {},
     "output_type": "display_data"
    },
    {
     "name": "stdout",
     "output_type": "stream",
     "text": [
      "Reached the max training steps: 5000\n",
      "loss: 0.46364229917526245\n"
     ]
    },
    {
     "name": "stderr",
     "output_type": "stream",
     "text": [
      "100%|██████████| 1000/1000 [00:00<00:00, 1068.78it/s, std=64.4]\n"
     ]
    },
    {
     "name": "stdout",
     "output_type": "stream",
     "text": [
      "Chamfer Distance: 47.438745148771524\n",
      "model1, Layers: [128], Train Steps: 10000\n",
      "model params: 770\n",
      "Training on device: cuda\n"
     ]
    },
    {
     "data": {
      "application/vnd.jupyter.widget-view+json": {
       "model_id": "620f9a98d0cf4452939427309a396df4",
       "version_major": 2,
       "version_minor": 0
      },
      "text/plain": [
       "  0%|          | 0/3125 [00:00<?, ?it/s]"
      ]
     },
     "metadata": {},
     "output_type": "display_data"
    },
    {
     "name": "stdout",
     "output_type": "stream",
     "text": [
      "Reached the max training steps: 10000\n",
      "loss: 0.4620330333709717\n"
     ]
    },
    {
     "name": "stderr",
     "output_type": "stream",
     "text": [
      "100%|██████████| 1000/1000 [00:00<00:00, 1053.48it/s, std=58.7]\n"
     ]
    },
    {
     "name": "stdout",
     "output_type": "stream",
     "text": [
      "Chamfer Distance: 43.8795945442217\n",
      "model1, Layers: [256, 256], Train Steps: 1000\n",
      "model params: 67330\n",
      "Training on device: cuda\n"
     ]
    },
    {
     "data": {
      "application/vnd.jupyter.widget-view+json": {
       "model_id": "781010cf972445d9bc33bc589b83b65d",
       "version_major": 2,
       "version_minor": 0
      },
      "text/plain": [
       "  0%|          | 0/3125 [00:00<?, ?it/s]"
      ]
     },
     "metadata": {},
     "output_type": "display_data"
    },
    {
     "name": "stdout",
     "output_type": "stream",
     "text": [
      "Reached the max training steps: 1000\n",
      "loss: 0.433613121509552\n"
     ]
    },
    {
     "name": "stderr",
     "output_type": "stream",
     "text": [
      "100%|██████████| 1000/1000 [00:00<00:00, 1025.87it/s, std=55.3]\n"
     ]
    },
    {
     "name": "stdout",
     "output_type": "stream",
     "text": [
      "Chamfer Distance: 34.900078827080634\n",
      "model1, Layers: [256, 256], Train Steps: 5000\n",
      "model params: 67330\n",
      "Training on device: cuda\n"
     ]
    },
    {
     "data": {
      "application/vnd.jupyter.widget-view+json": {
       "model_id": "29e061f012974ed09e759d38ae5c5599",
       "version_major": 2,
       "version_minor": 0
      },
      "text/plain": [
       "  0%|          | 0/3125 [00:00<?, ?it/s]"
      ]
     },
     "metadata": {},
     "output_type": "display_data"
    },
    {
     "name": "stdout",
     "output_type": "stream",
     "text": [
      "Reached the max training steps: 5000\n",
      "loss: 0.41779962182044983\n"
     ]
    },
    {
     "name": "stderr",
     "output_type": "stream",
     "text": [
      "100%|██████████| 1000/1000 [00:00<00:00, 1030.43it/s, std=49.4]\n"
     ]
    },
    {
     "name": "stdout",
     "output_type": "stream",
     "text": [
      "Chamfer Distance: 37.8007218336046\n",
      "model1, Layers: [256, 256], Train Steps: 10000\n",
      "model params: 67330\n",
      "Training on device: cuda\n"
     ]
    },
    {
     "data": {
      "application/vnd.jupyter.widget-view+json": {
       "model_id": "4a0c626560d5470ab5a65d6175e220e5",
       "version_major": 2,
       "version_minor": 0
      },
      "text/plain": [
       "  0%|          | 0/3125 [00:00<?, ?it/s]"
      ]
     },
     "metadata": {},
     "output_type": "display_data"
    },
    {
     "name": "stdout",
     "output_type": "stream",
     "text": [
      "Reached the max training steps: 10000\n",
      "loss: 0.4159809947013855\n"
     ]
    },
    {
     "name": "stderr",
     "output_type": "stream",
     "text": [
      "100%|██████████| 1000/1000 [00:00<00:00, 1027.20it/s, std=56.5]\n"
     ]
    },
    {
     "name": "stdout",
     "output_type": "stream",
     "text": [
      "Chamfer Distance: 41.10801919781987\n",
      "model1, Layers: [512, 512], Train Steps: 1000\n",
      "model params: 265730\n",
      "Training on device: cuda\n"
     ]
    },
    {
     "data": {
      "application/vnd.jupyter.widget-view+json": {
       "model_id": "11159adce8824527b1e29be92f728c89",
       "version_major": 2,
       "version_minor": 0
      },
      "text/plain": [
       "  0%|          | 0/3125 [00:00<?, ?it/s]"
      ]
     },
     "metadata": {},
     "output_type": "display_data"
    },
    {
     "name": "stdout",
     "output_type": "stream",
     "text": [
      "Reached the max training steps: 1000\n",
      "loss: 0.4471423327922821\n"
     ]
    },
    {
     "name": "stderr",
     "output_type": "stream",
     "text": [
      "100%|██████████| 1000/1000 [00:01<00:00, 982.32it/s, std=64.2]\n"
     ]
    },
    {
     "name": "stdout",
     "output_type": "stream",
     "text": [
      "Chamfer Distance: 44.991998336324244\n",
      "model1, Layers: [512, 512], Train Steps: 5000\n",
      "model params: 265730\n",
      "Training on device: cuda\n"
     ]
    },
    {
     "data": {
      "application/vnd.jupyter.widget-view+json": {
       "model_id": "95a66c0dac384e3e87281f48003a5cd7",
       "version_major": 2,
       "version_minor": 0
      },
      "text/plain": [
       "  0%|          | 0/3125 [00:00<?, ?it/s]"
      ]
     },
     "metadata": {},
     "output_type": "display_data"
    },
    {
     "name": "stdout",
     "output_type": "stream",
     "text": [
      "Reached the max training steps: 5000\n",
      "loss: 0.3601759076118469\n"
     ]
    },
    {
     "name": "stderr",
     "output_type": "stream",
     "text": [
      "100%|██████████| 1000/1000 [00:00<00:00, 1003.78it/s, std=64] \n"
     ]
    },
    {
     "name": "stdout",
     "output_type": "stream",
     "text": [
      "Chamfer Distance: 47.84504672777196\n",
      "model1, Layers: [512, 512], Train Steps: 10000\n",
      "model params: 265730\n",
      "Training on device: cuda\n"
     ]
    },
    {
     "data": {
      "application/vnd.jupyter.widget-view+json": {
       "model_id": "bd6fd01e9d95409fbd9182b8052bdcf2",
       "version_major": 2,
       "version_minor": 0
      },
      "text/plain": [
       "  0%|          | 0/3125 [00:00<?, ?it/s]"
      ]
     },
     "metadata": {},
     "output_type": "display_data"
    },
    {
     "name": "stdout",
     "output_type": "stream",
     "text": [
      "Reached the max training steps: 10000\n",
      "loss: 0.44915974140167236\n"
     ]
    },
    {
     "name": "stderr",
     "output_type": "stream",
     "text": [
      "100%|██████████| 1000/1000 [00:01<00:00, 993.84it/s, std=56.1]\n"
     ]
    },
    {
     "name": "stdout",
     "output_type": "stream",
     "text": [
      "Chamfer Distance: 40.11150077540098\n",
      "model1, Layers: [256, 256, 256, 256, 256], Train Steps: 1000\n",
      "model params: 264706\n",
      "Training on device: cuda\n"
     ]
    },
    {
     "data": {
      "application/vnd.jupyter.widget-view+json": {
       "model_id": "03bff9e1f16442e280bb2aa49ed31b8d",
       "version_major": 2,
       "version_minor": 0
      },
      "text/plain": [
       "  0%|          | 0/3125 [00:00<?, ?it/s]"
      ]
     },
     "metadata": {},
     "output_type": "display_data"
    },
    {
     "name": "stdout",
     "output_type": "stream",
     "text": [
      "Reached the max training steps: 1000\n",
      "loss: 0.42826491594314575\n"
     ]
    },
    {
     "name": "stderr",
     "output_type": "stream",
     "text": [
      "100%|██████████| 1000/1000 [00:01<00:00, 938.80it/s, std=64.7]\n"
     ]
    },
    {
     "name": "stdout",
     "output_type": "stream",
     "text": [
      "Chamfer Distance: 45.433996849178996\n",
      "model1, Layers: [256, 256, 256, 256, 256], Train Steps: 5000\n",
      "model params: 264706\n",
      "Training on device: cuda\n"
     ]
    },
    {
     "data": {
      "application/vnd.jupyter.widget-view+json": {
       "model_id": "a560a349ad9943cb8ea71fa665a19a03",
       "version_major": 2,
       "version_minor": 0
      },
      "text/plain": [
       "  0%|          | 0/3125 [00:00<?, ?it/s]"
      ]
     },
     "metadata": {},
     "output_type": "display_data"
    },
    {
     "name": "stdout",
     "output_type": "stream",
     "text": [
      "Reached the max training steps: 5000\n",
      "loss: 0.43620750308036804\n"
     ]
    },
    {
     "name": "stderr",
     "output_type": "stream",
     "text": [
      "100%|██████████| 1000/1000 [00:01<00:00, 956.80it/s, std=68.4]\n"
     ]
    },
    {
     "name": "stdout",
     "output_type": "stream",
     "text": [
      "Chamfer Distance: 47.47955309238842\n",
      "model1, Layers: [256, 256, 256, 256, 256], Train Steps: 10000\n",
      "model params: 264706\n",
      "Training on device: cuda\n"
     ]
    },
    {
     "data": {
      "application/vnd.jupyter.widget-view+json": {
       "model_id": "d73f6a379b934e7395ad613f51d6db95",
       "version_major": 2,
       "version_minor": 0
      },
      "text/plain": [
       "  0%|          | 0/3125 [00:00<?, ?it/s]"
      ]
     },
     "metadata": {},
     "output_type": "display_data"
    },
    {
     "name": "stdout",
     "output_type": "stream",
     "text": [
      "Reached the max training steps: 10000\n",
      "loss: 0.4281949996948242\n"
     ]
    },
    {
     "name": "stderr",
     "output_type": "stream",
     "text": [
      "100%|██████████| 1000/1000 [00:01<00:00, 941.21it/s, std=56.2]\n"
     ]
    },
    {
     "name": "stdout",
     "output_type": "stream",
     "text": [
      "Chamfer Distance: 40.01103618165592\n",
      "model2, Layers: [128], Train Steps: 1000\n",
      "model params: 4738\n",
      "Training on device: cuda\n"
     ]
    },
    {
     "data": {
      "application/vnd.jupyter.widget-view+json": {
       "model_id": "00ca66db52274508bb88ef292666a7c8",
       "version_major": 2,
       "version_minor": 0
      },
      "text/plain": [
       "  0%|          | 0/3125 [00:00<?, ?it/s]"
      ]
     },
     "metadata": {},
     "output_type": "display_data"
    },
    {
     "name": "stdout",
     "output_type": "stream",
     "text": [
      "Reached the max training steps: 1000\n",
      "loss: 0.3815053701400757\n"
     ]
    },
    {
     "name": "stderr",
     "output_type": "stream",
     "text": [
      "100%|██████████| 1000/1000 [00:00<00:00, 1000.22it/s, std=1.9]\n"
     ]
    },
    {
     "name": "stdout",
     "output_type": "stream",
     "text": [
      "Chamfer Distance: 0.9952134982106191\n",
      "model2, Layers: [128], Train Steps: 5000\n",
      "model params: 4738\n",
      "Training on device: cuda\n"
     ]
    },
    {
     "data": {
      "application/vnd.jupyter.widget-view+json": {
       "model_id": "e83f88c5ac0f431f9ecb332fa764df73",
       "version_major": 2,
       "version_minor": 0
      },
      "text/plain": [
       "  0%|          | 0/3125 [00:00<?, ?it/s]"
      ]
     },
     "metadata": {},
     "output_type": "display_data"
    },
    {
     "name": "stdout",
     "output_type": "stream",
     "text": [
      "Reached the max training steps: 5000\n",
      "loss: 0.342546284198761\n"
     ]
    },
    {
     "name": "stderr",
     "output_type": "stream",
     "text": [
      "100%|██████████| 1000/1000 [00:00<00:00, 1014.42it/s, std=2.02]\n"
     ]
    },
    {
     "name": "stdout",
     "output_type": "stream",
     "text": [
      "Chamfer Distance: 0.9870064848257294\n",
      "model2, Layers: [128], Train Steps: 10000\n",
      "model params: 4738\n",
      "Training on device: cuda\n"
     ]
    },
    {
     "data": {
      "application/vnd.jupyter.widget-view+json": {
       "model_id": "7b34a36b904b497eb84169f6040c1f71",
       "version_major": 2,
       "version_minor": 0
      },
      "text/plain": [
       "  0%|          | 0/3125 [00:00<?, ?it/s]"
      ]
     },
     "metadata": {},
     "output_type": "display_data"
    },
    {
     "name": "stdout",
     "output_type": "stream",
     "text": [
      "Reached the max training steps: 10000\n",
      "loss: 0.40761643648147583\n"
     ]
    },
    {
     "name": "stderr",
     "output_type": "stream",
     "text": [
      "100%|██████████| 1000/1000 [00:00<00:00, 1019.49it/s, std=1.95]\n"
     ]
    },
    {
     "name": "stdout",
     "output_type": "stream",
     "text": [
      "Chamfer Distance: 0.826520714937363\n",
      "model2, Layers: [256, 256], Train Steps: 1000\n",
      "model params: 75266\n",
      "Training on device: cuda\n"
     ]
    },
    {
     "data": {
      "application/vnd.jupyter.widget-view+json": {
       "model_id": "d261d9d20c944a18bd11c3df77e51fb1",
       "version_major": 2,
       "version_minor": 0
      },
      "text/plain": [
       "  0%|          | 0/3125 [00:00<?, ?it/s]"
      ]
     },
     "metadata": {},
     "output_type": "display_data"
    },
    {
     "name": "stdout",
     "output_type": "stream",
     "text": [
      "Reached the max training steps: 1000\n",
      "loss: 0.40317225456237793\n"
     ]
    },
    {
     "name": "stderr",
     "output_type": "stream",
     "text": [
      "100%|██████████| 1000/1000 [00:01<00:00, 990.18it/s, std=1.98]\n"
     ]
    },
    {
     "name": "stdout",
     "output_type": "stream",
     "text": [
      "Chamfer Distance: 0.9103175682988993\n",
      "model2, Layers: [256, 256], Train Steps: 5000\n",
      "model params: 75266\n",
      "Training on device: cuda\n"
     ]
    },
    {
     "data": {
      "application/vnd.jupyter.widget-view+json": {
       "model_id": "52903dbec67043419bee0b1b9eba6707",
       "version_major": 2,
       "version_minor": 0
      },
      "text/plain": [
       "  0%|          | 0/3125 [00:00<?, ?it/s]"
      ]
     },
     "metadata": {},
     "output_type": "display_data"
    },
    {
     "name": "stdout",
     "output_type": "stream",
     "text": [
      "Reached the max training steps: 5000\n",
      "loss: 0.4225660264492035\n"
     ]
    },
    {
     "name": "stderr",
     "output_type": "stream",
     "text": [
      "100%|██████████| 1000/1000 [00:01<00:00, 976.46it/s, std=1.98]\n"
     ]
    },
    {
     "name": "stdout",
     "output_type": "stream",
     "text": [
      "Chamfer Distance: 0.6969788011770026\n",
      "model2, Layers: [256, 256], Train Steps: 10000\n",
      "model params: 75266\n",
      "Training on device: cuda\n"
     ]
    },
    {
     "data": {
      "application/vnd.jupyter.widget-view+json": {
       "model_id": "54a24ebc41844096959a3e7237fc4ef7",
       "version_major": 2,
       "version_minor": 0
      },
      "text/plain": [
       "  0%|          | 0/3125 [00:00<?, ?it/s]"
      ]
     },
     "metadata": {},
     "output_type": "display_data"
    },
    {
     "name": "stdout",
     "output_type": "stream",
     "text": [
      "Reached the max training steps: 10000\n",
      "loss: 0.34160494804382324\n"
     ]
    },
    {
     "name": "stderr",
     "output_type": "stream",
     "text": [
      "100%|██████████| 1000/1000 [00:01<00:00, 971.04it/s, std=1.95] \n"
     ]
    },
    {
     "name": "stdout",
     "output_type": "stream",
     "text": [
      "Chamfer Distance: 0.5928464470174432\n",
      "model2, Layers: [512, 512], Train Steps: 1000\n",
      "model params: 281602\n",
      "Training on device: cuda\n"
     ]
    },
    {
     "data": {
      "application/vnd.jupyter.widget-view+json": {
       "model_id": "fe0f94b858cf445795ac9b72e6597cb0",
       "version_major": 2,
       "version_minor": 0
      },
      "text/plain": [
       "  0%|          | 0/3125 [00:00<?, ?it/s]"
      ]
     },
     "metadata": {},
     "output_type": "display_data"
    },
    {
     "name": "stdout",
     "output_type": "stream",
     "text": [
      "Reached the max training steps: 1000\n",
      "loss: 0.3745132386684418\n"
     ]
    },
    {
     "name": "stderr",
     "output_type": "stream",
     "text": [
      "100%|██████████| 1000/1000 [00:00<00:00, 1001.80it/s, std=1.94]\n"
     ]
    },
    {
     "name": "stdout",
     "output_type": "stream",
     "text": [
      "Chamfer Distance: 0.8723187112974164\n",
      "model2, Layers: [512, 512], Train Steps: 5000\n",
      "model params: 281602\n",
      "Training on device: cuda\n"
     ]
    },
    {
     "data": {
      "application/vnd.jupyter.widget-view+json": {
       "model_id": "08870c49364c495e89dd958fdd3db535",
       "version_major": 2,
       "version_minor": 0
      },
      "text/plain": [
       "  0%|          | 0/3125 [00:00<?, ?it/s]"
      ]
     },
     "metadata": {},
     "output_type": "display_data"
    },
    {
     "name": "stdout",
     "output_type": "stream",
     "text": [
      "Reached the max training steps: 5000\n",
      "loss: 0.4065595269203186\n"
     ]
    },
    {
     "name": "stderr",
     "output_type": "stream",
     "text": [
      "100%|██████████| 1000/1000 [00:01<00:00, 955.66it/s, std=2]   \n"
     ]
    },
    {
     "name": "stdout",
     "output_type": "stream",
     "text": [
      "Chamfer Distance: 0.6087286500392258\n",
      "model2, Layers: [512, 512], Train Steps: 10000\n",
      "model params: 281602\n",
      "Training on device: cuda\n"
     ]
    },
    {
     "data": {
      "application/vnd.jupyter.widget-view+json": {
       "model_id": "80729cd7c63149d68335625301cc579e",
       "version_major": 2,
       "version_minor": 0
      },
      "text/plain": [
       "  0%|          | 0/3125 [00:00<?, ?it/s]"
      ]
     },
     "metadata": {},
     "output_type": "display_data"
    },
    {
     "name": "stdout",
     "output_type": "stream",
     "text": [
      "Reached the max training steps: 10000\n",
      "loss: 0.32167112827301025\n"
     ]
    },
    {
     "name": "stderr",
     "output_type": "stream",
     "text": [
      "100%|██████████| 1000/1000 [00:00<00:00, 1011.62it/s, std=1.97]\n"
     ]
    },
    {
     "name": "stdout",
     "output_type": "stream",
     "text": [
      "Chamfer Distance: 0.46802006722301026\n",
      "model2, Layers: [256, 256, 256, 256, 256], Train Steps: 1000\n",
      "model params: 272642\n",
      "Training on device: cuda\n"
     ]
    },
    {
     "data": {
      "application/vnd.jupyter.widget-view+json": {
       "model_id": "32211b5311854e7db07202bec856a2f8",
       "version_major": 2,
       "version_minor": 0
      },
      "text/plain": [
       "  0%|          | 0/3125 [00:00<?, ?it/s]"
      ]
     },
     "metadata": {},
     "output_type": "display_data"
    },
    {
     "name": "stdout",
     "output_type": "stream",
     "text": [
      "Reached the max training steps: 1000\n",
      "loss: 0.4069325625896454\n"
     ]
    },
    {
     "name": "stderr",
     "output_type": "stream",
     "text": [
      "100%|██████████| 1000/1000 [00:01<00:00, 934.27it/s, std=2]   \n"
     ]
    },
    {
     "name": "stdout",
     "output_type": "stream",
     "text": [
      "Chamfer Distance: 0.6562601955836662\n",
      "model2, Layers: [256, 256, 256, 256, 256], Train Steps: 5000\n",
      "model params: 272642\n",
      "Training on device: cuda\n"
     ]
    },
    {
     "data": {
      "application/vnd.jupyter.widget-view+json": {
       "model_id": "841be57802c7420f84a09dd2b26ae51a",
       "version_major": 2,
       "version_minor": 0
      },
      "text/plain": [
       "  0%|          | 0/3125 [00:00<?, ?it/s]"
      ]
     },
     "metadata": {},
     "output_type": "display_data"
    },
    {
     "name": "stdout",
     "output_type": "stream",
     "text": [
      "Reached the max training steps: 5000\n",
      "loss: 0.3000778257846832\n"
     ]
    },
    {
     "name": "stderr",
     "output_type": "stream",
     "text": [
      "100%|██████████| 1000/1000 [00:01<00:00, 898.61it/s, std=1.94]\n"
     ]
    },
    {
     "name": "stdout",
     "output_type": "stream",
     "text": [
      "Chamfer Distance: 0.23615802336684183\n",
      "model2, Layers: [256, 256, 256, 256, 256], Train Steps: 10000\n",
      "model params: 272642\n",
      "Training on device: cuda\n"
     ]
    },
    {
     "data": {
      "application/vnd.jupyter.widget-view+json": {
       "model_id": "a1b62a175b5b49ca899615ae944d3c90",
       "version_major": 2,
       "version_minor": 0
      },
      "text/plain": [
       "  0%|          | 0/3125 [00:00<?, ?it/s]"
      ]
     },
     "metadata": {},
     "output_type": "display_data"
    },
    {
     "name": "stdout",
     "output_type": "stream",
     "text": [
      "Reached the max training steps: 10000\n",
      "loss: 0.3427009582519531\n"
     ]
    },
    {
     "name": "stderr",
     "output_type": "stream",
     "text": [
      "100%|██████████| 1000/1000 [00:01<00:00, 901.10it/s, std=1.93]\n"
     ]
    },
    {
     "name": "stdout",
     "output_type": "stream",
     "text": [
      "Chamfer Distance: 0.22002034624801564\n",
      "model3, Layers: [128], Train Steps: 1000\n",
      "model params: 50570\n",
      "Training on device: cuda\n"
     ]
    },
    {
     "data": {
      "application/vnd.jupyter.widget-view+json": {
       "model_id": "e9887bd7815c458eaf4d14b6aa599b74",
       "version_major": 2,
       "version_minor": 0
      },
      "text/plain": [
       "  0%|          | 0/3125 [00:00<?, ?it/s]"
      ]
     },
     "metadata": {},
     "output_type": "display_data"
    },
    {
     "name": "stdout",
     "output_type": "stream",
     "text": [
      "Reached the max training steps: 1000\n",
      "loss: 0.34604138135910034\n"
     ]
    },
    {
     "name": "stderr",
     "output_type": "stream",
     "text": [
      "100%|██████████| 1000/1000 [00:01<00:00, 741.65it/s, std=1.93]\n"
     ]
    },
    {
     "name": "stdout",
     "output_type": "stream",
     "text": [
      "Chamfer Distance: 0.720878815943192\n",
      "model3, Layers: [128], Train Steps: 5000\n",
      "model params: 50570\n",
      "Training on device: cuda\n"
     ]
    },
    {
     "data": {
      "application/vnd.jupyter.widget-view+json": {
       "model_id": "43cb41cbc0b04e27859dc39c043b34d2",
       "version_major": 2,
       "version_minor": 0
      },
      "text/plain": [
       "  0%|          | 0/3125 [00:00<?, ?it/s]"
      ]
     },
     "metadata": {},
     "output_type": "display_data"
    },
    {
     "name": "stdout",
     "output_type": "stream",
     "text": [
      "Reached the max training steps: 5000\n",
      "loss: 0.26689964532852173\n"
     ]
    },
    {
     "name": "stderr",
     "output_type": "stream",
     "text": [
      "100%|██████████| 1000/1000 [00:01<00:00, 738.06it/s, std=2.03]\n"
     ]
    },
    {
     "name": "stdout",
     "output_type": "stream",
     "text": [
      "Chamfer Distance: 0.281599986112402\n",
      "model3, Layers: [128], Train Steps: 10000\n",
      "model params: 50570\n",
      "Training on device: cuda\n"
     ]
    },
    {
     "data": {
      "application/vnd.jupyter.widget-view+json": {
       "model_id": "d14ef80165dc43a4aa598e6521a56b39",
       "version_major": 2,
       "version_minor": 0
      },
      "text/plain": [
       "  0%|          | 0/3125 [00:00<?, ?it/s]"
      ]
     },
     "metadata": {},
     "output_type": "display_data"
    },
    {
     "name": "stdout",
     "output_type": "stream",
     "text": [
      "Reached the max training steps: 10000\n",
      "loss: 0.3543072044849396\n"
     ]
    },
    {
     "name": "stderr",
     "output_type": "stream",
     "text": [
      "100%|██████████| 1000/1000 [00:01<00:00, 751.87it/s, std=1.97]\n"
     ]
    },
    {
     "name": "stdout",
     "output_type": "stream",
     "text": [
      "Chamfer Distance: 0.3179484760186321\n",
      "model3, Layers: [256, 256], Train Steps: 1000\n",
      "model params: 330762\n",
      "Training on device: cuda\n"
     ]
    },
    {
     "data": {
      "application/vnd.jupyter.widget-view+json": {
       "model_id": "0bf7587860584fd29a6ef1d7fbeb79bf",
       "version_major": 2,
       "version_minor": 0
      },
      "text/plain": [
       "  0%|          | 0/3125 [00:00<?, ?it/s]"
      ]
     },
     "metadata": {},
     "output_type": "display_data"
    },
    {
     "name": "stdout",
     "output_type": "stream",
     "text": [
      "Reached the max training steps: 1000\n",
      "loss: 0.32084426283836365\n"
     ]
    },
    {
     "name": "stderr",
     "output_type": "stream",
     "text": [
      "100%|██████████| 1000/1000 [00:01<00:00, 619.71it/s, std=1.97]\n"
     ]
    },
    {
     "name": "stdout",
     "output_type": "stream",
     "text": [
      "Chamfer Distance: 0.3826757721628579\n",
      "model3, Layers: [256, 256], Train Steps: 5000\n",
      "model params: 330762\n",
      "Training on device: cuda\n"
     ]
    },
    {
     "data": {
      "application/vnd.jupyter.widget-view+json": {
       "model_id": "6f85b98ba6744deebea9275e0f7e5b06",
       "version_major": 2,
       "version_minor": 0
      },
      "text/plain": [
       "  0%|          | 0/3125 [00:00<?, ?it/s]"
      ]
     },
     "metadata": {},
     "output_type": "display_data"
    },
    {
     "name": "stdout",
     "output_type": "stream",
     "text": [
      "Reached the max training steps: 5000\n",
      "loss: 0.33935433626174927\n"
     ]
    },
    {
     "name": "stderr",
     "output_type": "stream",
     "text": [
      "100%|██████████| 1000/1000 [00:01<00:00, 632.97it/s, std=1.93]\n"
     ]
    },
    {
     "name": "stdout",
     "output_type": "stream",
     "text": [
      "Chamfer Distance: 0.2178326634163048\n",
      "model3, Layers: [256, 256], Train Steps: 10000\n",
      "model params: 330762\n",
      "Training on device: cuda\n"
     ]
    },
    {
     "data": {
      "application/vnd.jupyter.widget-view+json": {
       "model_id": "5d533d4e232a454b929cc80d316e91d3",
       "version_major": 2,
       "version_minor": 0
      },
      "text/plain": [
       "  0%|          | 0/3125 [00:00<?, ?it/s]"
      ]
     },
     "metadata": {},
     "output_type": "display_data"
    },
    {
     "name": "stdout",
     "output_type": "stream",
     "text": [
      "Reached the max training steps: 10000\n",
      "loss: 0.29220932722091675\n"
     ]
    },
    {
     "name": "stderr",
     "output_type": "stream",
     "text": [
      "100%|██████████| 1000/1000 [00:01<00:00, 638.39it/s, std=1.96]\n"
     ]
    },
    {
     "name": "stdout",
     "output_type": "stream",
     "text": [
      "Chamfer Distance: 0.20583606746893657\n",
      "model3, Layers: [512, 512], Train Steps: 1000\n",
      "model params: 1054218\n",
      "Training on device: cuda\n"
     ]
    },
    {
     "data": {
      "application/vnd.jupyter.widget-view+json": {
       "model_id": "fb1c12d556ef459ebf4180b5ab020449",
       "version_major": 2,
       "version_minor": 0
      },
      "text/plain": [
       "  0%|          | 0/3125 [00:00<?, ?it/s]"
      ]
     },
     "metadata": {},
     "output_type": "display_data"
    },
    {
     "name": "stdout",
     "output_type": "stream",
     "text": [
      "Reached the max training steps: 1000\n",
      "loss: 0.29506391286849976\n"
     ]
    },
    {
     "name": "stderr",
     "output_type": "stream",
     "text": [
      "100%|██████████| 1000/1000 [00:01<00:00, 641.70it/s, std=2.01]\n"
     ]
    },
    {
     "name": "stdout",
     "output_type": "stream",
     "text": [
      "Chamfer Distance: 0.35953832038652656\n",
      "model3, Layers: [512, 512], Train Steps: 5000\n",
      "model params: 1054218\n",
      "Training on device: cuda\n"
     ]
    },
    {
     "data": {
      "application/vnd.jupyter.widget-view+json": {
       "model_id": "147fce6ebdab40f5b5e95dde08c26c99",
       "version_major": 2,
       "version_minor": 0
      },
      "text/plain": [
       "  0%|          | 0/3125 [00:00<?, ?it/s]"
      ]
     },
     "metadata": {},
     "output_type": "display_data"
    },
    {
     "name": "stdout",
     "output_type": "stream",
     "text": [
      "Reached the max training steps: 5000\n",
      "loss: 0.32820066809654236\n"
     ]
    },
    {
     "name": "stderr",
     "output_type": "stream",
     "text": [
      "100%|██████████| 1000/1000 [00:01<00:00, 631.76it/s, std=2.03]\n"
     ]
    },
    {
     "name": "stdout",
     "output_type": "stream",
     "text": [
      "Chamfer Distance: 0.2234631816484437\n",
      "model3, Layers: [512, 512], Train Steps: 10000\n",
      "model params: 1054218\n",
      "Training on device: cuda\n"
     ]
    },
    {
     "data": {
      "application/vnd.jupyter.widget-view+json": {
       "model_id": "4cc57b6eb7dc4429b086a23a5bb28cec",
       "version_major": 2,
       "version_minor": 0
      },
      "text/plain": [
       "  0%|          | 0/3125 [00:00<?, ?it/s]"
      ]
     },
     "metadata": {},
     "output_type": "display_data"
    },
    {
     "name": "stdout",
     "output_type": "stream",
     "text": [
      "Reached the max training steps: 10000\n",
      "loss: 0.3356664776802063\n"
     ]
    },
    {
     "name": "stderr",
     "output_type": "stream",
     "text": [
      "100%|██████████| 1000/1000 [00:01<00:00, 634.93it/s, std=1.92]\n"
     ]
    },
    {
     "name": "stdout",
     "output_type": "stream",
     "text": [
      "Chamfer Distance: 0.2181650604105344\n",
      "model3, Layers: [256, 256, 256, 256, 256], Train Steps: 1000\n",
      "model params: 922890\n",
      "Training on device: cuda\n"
     ]
    },
    {
     "data": {
      "application/vnd.jupyter.widget-view+json": {
       "model_id": "0752739261b14bb99a2f52e128f95904",
       "version_major": 2,
       "version_minor": 0
      },
      "text/plain": [
       "  0%|          | 0/3125 [00:00<?, ?it/s]"
      ]
     },
     "metadata": {},
     "output_type": "display_data"
    },
    {
     "name": "stdout",
     "output_type": "stream",
     "text": [
      "Reached the max training steps: 1000\n",
      "loss: 0.3741267919540405\n"
     ]
    },
    {
     "name": "stderr",
     "output_type": "stream",
     "text": [
      "100%|██████████| 1000/1000 [00:02<00:00, 432.72it/s, std=1.97]\n"
     ]
    },
    {
     "name": "stdout",
     "output_type": "stream",
     "text": [
      "Chamfer Distance: 0.25825727442566093\n",
      "model3, Layers: [256, 256, 256, 256, 256], Train Steps: 5000\n",
      "model params: 922890\n",
      "Training on device: cuda\n"
     ]
    },
    {
     "data": {
      "application/vnd.jupyter.widget-view+json": {
       "model_id": "48dcb120d6914584836ffa51af7d8ef2",
       "version_major": 2,
       "version_minor": 0
      },
      "text/plain": [
       "  0%|          | 0/3125 [00:00<?, ?it/s]"
      ]
     },
     "metadata": {},
     "output_type": "display_data"
    },
    {
     "name": "stdout",
     "output_type": "stream",
     "text": [
      "Reached the max training steps: 5000\n",
      "loss: 0.330197274684906\n"
     ]
    },
    {
     "name": "stderr",
     "output_type": "stream",
     "text": [
      "100%|██████████| 1000/1000 [00:02<00:00, 419.03it/s, std=2.02]\n"
     ]
    },
    {
     "name": "stdout",
     "output_type": "stream",
     "text": [
      "Chamfer Distance: 0.21255801422529738\n",
      "model3, Layers: [256, 256, 256, 256, 256], Train Steps: 10000\n",
      "model params: 922890\n",
      "Training on device: cuda\n"
     ]
    },
    {
     "data": {
      "application/vnd.jupyter.widget-view+json": {
       "model_id": "4cd13a10d89640efb964991c23752ce2",
       "version_major": 2,
       "version_minor": 0
      },
      "text/plain": [
       "  0%|          | 0/3125 [00:00<?, ?it/s]"
      ]
     },
     "metadata": {},
     "output_type": "display_data"
    },
    {
     "name": "stdout",
     "output_type": "stream",
     "text": [
      "Reached the max training steps: 10000\n",
      "loss: 0.2812938988208771\n"
     ]
    },
    {
     "name": "stderr",
     "output_type": "stream",
     "text": [
      "100%|██████████| 1000/1000 [00:02<00:00, 435.70it/s, std=1.94]"
     ]
    },
    {
     "name": "stdout",
     "output_type": "stream",
     "text": [
      "Chamfer Distance: 0.17926968569031748\n"
     ]
    },
    {
     "name": "stderr",
     "output_type": "stream",
     "text": [
      "\n"
     ]
    }
   ],
   "source": [
    "train_config = TrainingConfig()\n",
    "train_dataloader, _ = load_data(train_config)\n",
    "device = \"cuda\" if torch.cuda.is_available() else \"cpu\"\n",
    "\n",
    "\n",
    "noise_schedule = create_noise_schedule(train_config.num_denoising_steps, device)\n",
    "losses = []\n",
    "chamfer_distances = []\n",
    "target_spiral = next(iter(train_dataloader))\n",
    "for i, m_config in enumerate(model_configs):\n",
    "    print(f\"Experiment run {i+1} of {len(model_configs)}\")\n",
    "    model = None\n",
    "    if m_config.model == \"model1\":\n",
    "        model = Model1(hidden_features=m_config.hidden_features, num_timesteps=m_config.train_steps).to(device)\n",
    "    elif m_config.model == \"model2\":\n",
    "        model = Model2(hidden_features=m_config.hidden_features, num_timesteps=m_config.train_steps).to(device)\n",
    "    elif m_config.model == \"model3\":\n",
    "        model = Model3(\n",
    "            hidden_features=m_config.hidden_features,\n",
    "            num_timesteps=m_config.train_steps,\n",
    "        ).to(device)\n",
    "    print(f\"{m_config.model}, Layers: {m_config.hidden_features}, Train Steps: {m_config.train_steps}\")\n",
    "    print(f\"model params: {sum(p.numel() for p in model.parameters())}\")\n",
    "    optimizer = optim.AdamW(model.parameters(), lr=train_config.learning_rate, weight_decay=train_config.weight_decay)\n",
    "    loss = train(model, train_dataloader=train_dataloader, optimizer=optimizer, steps=m_config.train_steps, noise_schedule=noise_schedule, device=device)\n",
    "    print(\"loss:\", loss.item())\n",
    "    generated_points = generate_samples_by_denoising(model, torch.randn(128, 2), noise_schedule, n_T=1000, device=device)\n",
    "    generated_points = generated_points.cpu().numpy()\n",
    "    if m_config.model == \"model1\":\n",
    "        # special treatment for model1\n",
    "        generated_points = np.clip(generated_points, -3.6, 3.6)\n",
    "    chamfer_dist = chamfer_distance(generated_points, target_spiral, direction='bi')\n",
    "    chamfer_distances.append(chamfer_dist)\n",
    "    print(\"Chamfer Distance:\", chamfer_dist)\n"
   ]
  },
  {
   "cell_type": "markdown",
   "metadata": {},
   "source": [
    "## Analyze the results"
   ]
  },
  {
   "cell_type": "code",
   "execution_count": 11,
   "metadata": {},
   "outputs": [
    {
     "name": "stdout",
     "output_type": "stream",
     "text": [
      "Best model: ModelConfig(model='model3', hidden_features=[256, 256, 256, 256, 256], train_steps=10000), Chamfer Distance: 0.17926968569031748\n"
     ]
    }
   ],
   "source": [
    "# Find the best model\n",
    "best_model_idx = np.argmin(chamfer_distances)\n",
    "\n",
    "best_model = model_configs[best_model_idx]\n",
    "print(f\"Best model: {best_model}, Chamfer Distance: {chamfer_distances[best_model_idx]}\")"
   ]
  },
  {
   "cell_type": "code",
   "execution_count": 34,
   "metadata": {},
   "outputs": [],
   "source": [
    "# Print a grid of the chamfer distances and the different configs\n",
    "import pandas as pd\n",
    "\n",
    "df = pd.DataFrame({\n",
    "    \"Model\": [m.model for m in model_configs],\n",
    "    \"Layers\": [m.hidden_features for m in model_configs],\n",
    "    \"Train Steps\": [m.train_steps for m in model_configs],\n",
    "    \"Chamfer Distance\": chamfer_distances,\n",
    "})\n",
    "\n",
    "# add num parameters to df\n",
    "num_parameters = []\n",
    "for m_config in model_configs:\n",
    "    if m_config.model == \"model1\":\n",
    "        model = Model1(hidden_features=m_config.hidden_features, num_timesteps=m_config.train_steps).to(device)\n",
    "    elif m_config.model == \"model2\":\n",
    "        model = Model2(hidden_features=m_config.hidden_features, num_timesteps=m_config.train_steps).to(device)\n",
    "    elif m_config.model == \"model3\":\n",
    "        model = Model3(\n",
    "            hidden_features=m_config.hidden_features,\n",
    "            num_timesteps=m_config.train_steps,\n",
    "        ).to(device)\n",
    "    num_parameters.append(sum(p.numel() for p in model.parameters()))\n",
    "\n",
    "df[\"Num Parameters\"] = num_parameters\n",
    "df['Quality (Negative Log Chamfer Distance)'] = np.log(1/df['Chamfer Distance'])"
   ]
  },
  {
   "cell_type": "markdown",
   "metadata": {},
   "source": [
    "### Plot quality vs. model size"
   ]
  },
  {
   "cell_type": "code",
   "execution_count": 65,
   "metadata": {},
   "outputs": [
    {
     "data": {
      "image/png": "[encoded data removed]",
      "text/plain": [
       "<Figure size 640x480 with 1 Axes>"
      ]
     },
     "metadata": {},
     "output_type": "display_data"
    }
   ],
   "source": [
    "# uses seaborn scatterplot to plot the scaling law\n",
    "# only uses 10,000 timesteps for the scaling law\n",
    "\n",
    "import seaborn as sns\n",
    "\n",
    "# We fix the number of timesteps to 10,000.\n",
    "selected_df = df[df[\"Train Steps\"] == 10000]\n",
    "# model2 or 3\n",
    "# df = df[df[\"Model\"] != \"model1\"]\n",
    "\n",
    "#color based on model\n",
    "# adds layers as very small text next to point\n",
    "sns.scatterplot(data=selected_df, x=\"Num Parameters\", y=\"Quality (Negative Log Chamfer Distance)\", hue=\"Model\")\n",
    "for i in range(len(selected_df)):\n",
    "    plt.text(\n",
    "        selected_df[\"Num Parameters\"].iloc[i],\n",
    "        selected_df[\"Quality (Negative Log Chamfer Distance)\"].iloc[i],\n",
    "        str(selected_df[\"Layers\"].iloc[i]), fontsize=5)\n",
    "\n",
    "plt.title(\"Quality vs. Model Size\")\n",
    "plt.show()"
   ]
  },
  {
   "cell_type": "markdown",
   "metadata": {},
   "source": [
    "### Plot quality vs. training steps"
   ]
  },
  {
   "cell_type": "code",
   "execution_count": 64,
   "metadata": {},
   "outputs": [
    {
     "data": {
      "image/png": "[encoded data removed]",
      "text/plain": [
       "<Figure size 640x480 with 1 Axes>"
      ]
     },
     "metadata": {},
     "output_type": "display_data"
    }
   ],
   "source": [
    "\n",
    "# We only look at the 5 layer model\n",
    "selected_df = df[df[\"Layers\"].astype(str) == '[256, 256, 256, 256, 256]']\n",
    "sns.lineplot(data=selected_df, x=\"Train Steps\", y=\"Quality (Negative Log Chamfer Distance)\", hue=\"Model\", style=\"Model\", markers=True, dashes=False)\n",
    "plt.title(\"Quality vs. Training Steps\")\n",
    "plt.show()\n"
   ]
  },
  {
   "cell_type": "markdown",
   "metadata": {},
   "source": [
    "## Discussion questions\n",
    "\n",
    "- Is it helpful to make the model wide or deep (e.g. [512, 512] vs. [256, 256, 256, 256, 256])?\n",
    "- Is it helpful to train for more steps?\n",
    "- What is the model architecture? Does model 3 dominate the other models?\n"
   ]
  }
 ],
 "metadata": {
  "kernelspec": {
   "display_name": "base",
   "language": "python",
   "name": "python3"
  },
  "language_info": {
   "codemirror_mode": {
    "name": "ipython",
    "version": 3
   },
   "file_extension": ".py",
   "mimetype": "text/x-python",
   "name": "python",
   "nbconvert_exporter": "python",
   "pygments_lexer": "ipython3",
   "version": "3.11.5"
  }
 },
 "nbformat": 4,
 "nbformat_minor": 2
}
